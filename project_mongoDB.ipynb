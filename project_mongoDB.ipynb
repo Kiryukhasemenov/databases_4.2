{
 "cells": [
  {
   "cell_type": "code",
   "execution_count": 1,
   "metadata": {},
   "outputs": [],
   "source": [
    "import pymongo\n",
    "from pymongo import MongoClient\n",
    "from bson.objectid import ObjectId\n",
    "from geojson import Point\n",
    "import pprint\n",
    "\n",
    "client = MongoClient()"
   ]
  },
  {
   "cell_type": "code",
   "execution_count": 2,
   "metadata": {},
   "outputs": [],
   "source": [
    "db = client.project"
   ]
  },
  {
   "cell_type": "code",
   "execution_count": 3,
   "metadata": {},
   "outputs": [],
   "source": [
    "extra_content = db.extra_content"
   ]
  },
  {
   "cell_type": "code",
   "execution_count": 4,
   "metadata": {},
   "outputs": [],
   "source": [
    "research = db.research"
   ]
  },
  {
   "cell_type": "markdown",
   "metadata": {},
   "source": [
    "# CRUD\n",
    "\n",
    "## Create"
   ]
  },
  {
   "cell_type": "code",
   "execution_count": 5,
   "metadata": {},
   "outputs": [],
   "source": [
    "from classes import *"
   ]
  },
  {
   "cell_type": "code",
   "execution_count": null,
   "metadata": {},
   "outputs": [],
   "source": [
    "def make_geojson():\n",
    "    template = { type: \"Point\", coordinates: [],  }\n",
    "    return geojson"
   ]
  },
  {
   "cell_type": "code",
   "execution_count": 6,
   "metadata": {},
   "outputs": [],
   "source": [
    "def general_allocator(content_collection, research_collection):\n",
    "    num_posts = input('Type 1 if you want to add one post, or a precise number if you want more: ')\n",
    "    \n",
    "    try:\n",
    "        num_posts = int(num_posts)\n",
    "    except:\n",
    "        return 'You must have mistyped the collection. Try again.'\n",
    "    \n",
    "    if num_posts == 1:\n",
    "        basic_allocator(content_collection, research_collection, one=True)\n",
    "        \n",
    "    else:\n",
    "        content_insert, research_insert = [], []\n",
    "        \n",
    "        for i in range(num_posts):\n",
    "            toggle, post = basic_allocator(content_collection, research_collection, one=False)\n",
    "            if toggle == 'c':\n",
    "                content_insert.append(post)\n",
    "            else:\n",
    "                research_insert.append(post)\n",
    "            print('==============================')\n",
    "            \n",
    "        if len(content_insert) > 0:\n",
    "            content_collection.insert_many(content_insert)\n",
    "        if len(research_insert) > 0:\n",
    "            research_collection.insert_many(research_insert)\n",
    "    \n",
    "    return 'done'"
   ]
  },
  {
   "cell_type": "code",
   "execution_count": 7,
   "metadata": {},
   "outputs": [],
   "source": [
    "def basic_allocator(content_collection, research_collection, one=True):\n",
    "    coll = input('Choose the collection to add an element: C for Content, R for Research')\n",
    "    coll = coll[0].lower()\n",
    "    \n",
    "    if coll == 'c':\n",
    "        new_el = allocator_content()\n",
    "        \n",
    "        if one:\n",
    "            content_collection.insert_one(new_el)\n",
    "        else:\n",
    "            return 'c', new_el\n",
    "    \n",
    "    elif coll == 'r':\n",
    "        new_el = allocator_research()\n",
    "        \n",
    "        if one:\n",
    "            research_collection.insert_one(new_el)\n",
    "        else:\n",
    "            return 'r', new_el\n",
    "    \n",
    "    else:\n",
    "        return 'You must have mistyped the collection. Try again.'\n",
    "    \n",
    "    return None#'done'"
   ]
  },
  {
   "cell_type": "code",
   "execution_count": 8,
   "metadata": {},
   "outputs": [],
   "source": [
    "def get_page():\n",
    "    research_page = input('Choose a page (if you already know). If you don`t - press Enter.')\n",
    "\n",
    "    if research_page == '':\n",
    "        research_page = bool(research_page)\n",
    "    return research_page\n"
   ]
  },
  {
   "cell_type": "code",
   "execution_count": 9,
   "metadata": {},
   "outputs": [],
   "source": [
    "n = Note('this is a note', page=23)"
   ]
  },
  {
   "cell_type": "code",
   "execution_count": 9,
   "metadata": {},
   "outputs": [],
   "source": [
    "def allocator_content():\n",
    "    content_type = input('''Choose the type of content you need to add: M for meme, \n",
    "    P for problem, T for term, Q for QR link, N for note: ''')\n",
    "    content_type = content_type[0].lower()\n",
    "    \n",
    "    content_page = get_page()\n",
    "    \n",
    "    if content_type == 'm':\n",
    "        meme_url = input('Insert the link to meme: ')\n",
    "        expl = input('Print the explanation/comment to meme: ')\n",
    "        result = Meme(meme_url, expl, page=content_page)\n",
    "        result_bson = {'type': 'meme', 'URL': result.meme, 'explanation':result.explanation}\n",
    "        \n",
    "    elif content_type == 'n':\n",
    "        note = input('Print the note: ')\n",
    "        result = Note(note)\n",
    "        result_bson = {'type':'note', 'text':result.note}\n",
    "    \n",
    "    elif content_type == 'p':\n",
    "        prob = input('Write the problem text: ')\n",
    "        sol = input('Insert the link to the solution: ')\n",
    "        result = Problem(prob, sol, page=content_page)\n",
    "        result_bson = {'type':'problem', 'problem':result.problem, 'solution link':result.solution_link}\n",
    "        \n",
    "    elif content_type == 'q':\n",
    "        qr_link = input('Insert the link to the QR code: ')\n",
    "        expl = input('Print the explanation to it: ')\n",
    "        result = QRLink(qr_link, expl, page=content_page)\n",
    "        result_bson = {'type':'QR-link', 'link':result.qr_link, 'explanation':result.explanation}\n",
    "    \n",
    "    elif content_type == 't':\n",
    "        term = input('Print the term: ')\n",
    "        comment = input('Print the comment: ')\n",
    "        links = input('Insert the links (if many, separate by ;)')\n",
    "        result = Term(term, comment, links, page=content_page)\n",
    "        result_bson = {'type':'term', 'term':result.term, 'comment':result.comment, 'links':result.links}\n",
    "    \n",
    "    else:\n",
    "        return 'You must have mistyped the collection. Try again.'\n",
    "    \n",
    "    if content_page:\n",
    "        result_bson['page'] = result.page\n",
    "    \n",
    "    return result_bson\n",
    "\n",
    "def allocator_research():\n",
    "    research_type = input('Choose the type of research you need to add: S for Study, I for Interview: ')\n",
    "    research_type = research_type[0].lower()\n",
    "    \n",
    "    #research_page = get_page()\n",
    "    \n",
    "    if research_type == 'i':\n",
    "        name = input('Print the name: ')\n",
    "        questions = input('Print the questions you want to ask: ')\n",
    "        time = input('Print the date and time: ')\n",
    "        place = input('Choose the place: ')\n",
    "        result = Interview(name, questions, time, place)\n",
    "        result_bson = {'type':'interview', 'name':result.name, 'time':result.time, 'place':result.place}\n",
    "        \n",
    "    elif research_type == 's':\n",
    "        problem = input('Print the theme of the research: ')\n",
    "        data = input('Insert the links to datasets (separate by ; if many)')\n",
    "        result = Study(problem, data)\n",
    "        result_bson = {'type':'study', 'problem':result.problem, 'data':result.data}\n",
    "    \n",
    "    else:\n",
    "        return 'You must have mistyped the collection. Try again.'\n",
    "    \n",
    "    #if page:\n",
    "    #    result_bson['page'] = result.page\n",
    "    \n",
    "    return result_bson\n"
   ]
  },
  {
   "cell_type": "code",
   "execution_count": 41,
   "metadata": {},
   "outputs": [
    {
     "name": "stdout",
     "output_type": "stream",
     "text": [
      "Type 1 if you want to add one post, or a precise number if you want more: 1\n",
      "Choose the collection to add an element: C for Content, R for ResearchR\n",
      "Choose the type of research you need to add: S for Study, I for Interview: S\n",
      "Print the theme of the research: корпусный анализ феминитивов\n",
      "Insert the links to datasets (separate by ; if many)http://ruscorpora.ru/new/;https://www.sketchengine.eu/rutenten-russian-corpus/\n"
     ]
    },
    {
     "data": {
      "text/plain": [
       "'done'"
      ]
     },
     "execution_count": 41,
     "metadata": {},
     "output_type": "execute_result"
    }
   ],
   "source": [
    "general_allocator(extra_content, research)"
   ]
  },
  {
   "cell_type": "markdown",
   "metadata": {},
   "source": [
    "## Read"
   ]
  },
  {
   "cell_type": "code",
   "execution_count": 15,
   "metadata": {},
   "outputs": [],
   "source": [
    "def read(content_collection, research_collection):\n",
    "    coll_choice = input('choose C for Content collection, R for Research collection, A for all collections: ')\n",
    "    coll_choice = coll_choice[0].lower()\n",
    "    \n",
    "    if coll_choice == 'c':\n",
    "        print('CONTENT ELEMENTS: ')\n",
    "        for c in content_collection.find():\n",
    "            pprint.pprint(c)\n",
    "            print('---------------------------')\n",
    "    \n",
    "    elif coll_choice == 'r':\n",
    "        print('RESEARCH ELEMENTS: ')\n",
    "        for r in research_collection.find():\n",
    "            pprint.pprint(r)\n",
    "            print('---------------------------')\n",
    "            \n",
    "    \n",
    "    elif coll_choice == 'a':\n",
    "        print('CONTENT ELEMENTS: ')\n",
    "        for c in content_collection.find():\n",
    "            pprint.pprint(c)\n",
    "            print('---------------------------')\n",
    "        print('\\n==========================\\n')\n",
    "        \n",
    "        print('RESEARCH ELEMENTS: ')\n",
    "        for r in research_collection.find():\n",
    "            pprint.pprint(r)\n",
    "            print('---------------------------')    \n",
    "            \n",
    "    else:\n",
    "        return 'You must have mistyped the collection. Try again.'"
   ]
  },
  {
   "cell_type": "code",
   "execution_count": 45,
   "metadata": {},
   "outputs": [
    {
     "name": "stdout",
     "output_type": "stream",
     "text": [
      "choose C for Content collection, R for Research collection, A for all collections: A\n",
      "CONTENT ELEMENTS: \n",
      "{'_id': ObjectId('5e84415d3a9663e4e0dac79f'),\n",
      " 'page': 32435,\n",
      " 'text': 'you say sorry just for sure',\n",
      " 'type': 'note'}\n",
      "---------------------------\n",
      "{'_id': ObjectId('5e84423c3a9663e4e0dac7a1'),\n",
      " 'explanation': 'Диссертация про феминитивы в смоленских говорах',\n",
      " 'link': 'https://yadi.sk/d/G-Fwe80VIobe0Q',\n",
      " 'page': 1234,\n",
      " 'type': 'QR-link'}\n",
      "---------------------------\n",
      "{'_id': ObjectId('5e8443683a9663e4e0dac7a2'),\n",
      " 'problem': 'В словаре Владимира Даля встречается ныне забытое слово '\n",
      "            'колоземица. Каким заимствованным словом оно оказалось вытеснено в '\n",
      "            'наши дни?  (А) циклон; (Б) космос; (В) атмосфера; (Г) вьюга; (Д) '\n",
      "            'катакомба.',\n",
      " 'solution link': 'https://slovesnik.org/images/docs/zadaniaolimpiad/Med_2002.pdf',\n",
      " 'type': 'problem'}\n",
      "---------------------------\n",
      "{'_id': ObjectId('5e8443683a9663e4e0dac7a3'),\n",
      " 'comment': 'пригодность морфемы, словообразовательной или словоизменительной '\n",
      "            'модели для образования новых слов и словоформ. Морфемы с высокой '\n",
      "            'продуктивностью называются продуктивными, с низкой — '\n",
      "            'непродуктивными.',\n",
      " 'links': ['https://ru.wikipedia.org/wiki/%D0%9F%D1%80%D0%BE%D0%B4%D1%83%D0%BA%D1%82%D0%B8%D0%B2%D0%BD%D0%BE%D1%81%D1%82%D1%8C_(%D0%BB%D0%B8%D0%BD%D0%B3%D0%B2%D0%B8%D1%81%D1%82%D0%B8%D0%BA%D0%B0)'],\n",
      " 'page': 3,\n",
      " 'term': 'Продуктивность',\n",
      " 'type': 'term'}\n",
      "---------------------------\n",
      "{'URL': 'https://cs11.pikabu.ru/post_img/big/2019/03/13/12/1552508232183053384.jpg',\n",
      " '_id': ObjectId('5e8444a53a9663e4e0dac7a5'),\n",
      " 'explanation': '',\n",
      " 'page': 45,\n",
      " 'type': 'meme'}\n",
      "---------------------------\n",
      "{'URL': 'http://risovach.ru/upload/2014/03/mem/zlye-roditeli_44536052_orig_.jpg',\n",
      " '_id': ObjectId('5e8444a53a9663e4e0dac7a6'),\n",
      " 'explanation': 'Это не совсем тот мем, что нужно. Замените \"переводчик\" на '\n",
      "                '\"лингвист\" - и получите такого же супергероя, как '\n",
      "                '\"тыжпрограммист\" и \"тыжеврач\".',\n",
      " 'type': 'meme'}\n",
      "---------------------------\n",
      "{'URL': 'https://cs11.pikabu.ru/post_img/big/2019/03/13/12/1552508232183053384.jpg',\n",
      " '_id': ObjectId('5e8445af3a9663e4e0dac7a7'),\n",
      " 'explanation': '---',\n",
      " 'page': 45,\n",
      " 'type': 'meme'}\n",
      "---------------------------\n",
      "{'URL': 'http://risovach.ru/upload/2014/03/mem/zlye-roditeli_44536052_orig_.jpg',\n",
      " '_id': ObjectId('5e8445af3a9663e4e0dac7a8'),\n",
      " 'explanation': 'Это не совсем тот мем, что нужно. Замените \"переводчик\" на '\n",
      "                '\"лингвист\" - и получите такого же супергероя, как '\n",
      "                '\"тыжпрограммист\" и \"тыжеврач\".',\n",
      " 'type': 'meme'}\n",
      "---------------------------\n",
      "{'URL': 'http://lol.jpg',\n",
      " '_id': ObjectId('5e84465f3a9663e4e0dac7a9'),\n",
      " 'explanation': '',\n",
      " 'page': 1,\n",
      " 'type': 'meme'}\n",
      "---------------------------\n",
      "{'URL': 'http://risovach.ru/upload/2014/03/mem/zlye-roditeli_44536052_orig_.jpg',\n",
      " '_id': ObjectId('5e84465f3a9663e4e0dac7aa'),\n",
      " 'explanation': 'Это не совсем тот мем, что нужно. Замените \"переводчик\" на '\n",
      "                '\"лингвист\" - и получите такого же супергероя, как '\n",
      "                '\"тыжпрограммист\" и \"тыжеврач\".',\n",
      " 'page': 23,\n",
      " 'type': 'meme'}\n",
      "---------------------------\n",
      "{'URL': 'http://fuck.off',\n",
      " '_id': ObjectId('5e84eef881d1711e1a842dcd'),\n",
      " 'explanation': 'born to be deleted',\n",
      " 'page': 234,\n",
      " 'type': 'meme'}\n",
      "---------------------------\n",
      "\n",
      "==========================\n",
      "\n",
      "RESEARCH ELEMENTS: \n",
      "{'_id': ObjectId('5e84415d3a9663e4e0dac7a0'),\n",
      " 'name': 'Даша Г.',\n",
      " 'place': '55.962962, 37.405983',\n",
      " 'time': '23.04.2020',\n",
      " 'type': 'interview'}\n",
      "---------------------------\n",
      "{'_id': ObjectId('5e84ef7581d1711e1a842dcf'),\n",
      " 'name': 'OXXXY',\n",
      " 'place': 'spb',\n",
      " 'time': '00.00.1703',\n",
      " 'type': 'interview'}\n",
      "---------------------------\n",
      "{'_id': ObjectId('5e84fa6281d1711e1a842dd2'),\n",
      " 'data': ['http://ruscorpora.ru/new/',\n",
      "          'https://www.sketchengine.eu/rutenten-russian-corpus/',\n",
      "          'https://books.google.com/ngrams/'],\n",
      " 'problem': 'корпусный анализ феминитивов',\n",
      " 'type': 'study'}\n",
      "---------------------------\n"
     ]
    }
   ],
   "source": [
    "read(extra_content, research)"
   ]
  },
  {
   "cell_type": "code",
   "execution_count": 101,
   "metadata": {},
   "outputs": [
    {
     "data": {
      "text/plain": [
       "'study'"
      ]
     },
     "execution_count": 101,
     "metadata": {},
     "output_type": "execute_result"
    }
   ],
   "source": [
    "obj = ObjectId('5e8443683a9663e4e0dac7a4')\n",
    "d = [a for a in research.find({'_id':obj})][0]\n",
    "d['type']"
   ]
  },
  {
   "cell_type": "markdown",
   "metadata": {},
   "source": [
    "## Update"
   ]
  },
  {
   "cell_type": "code",
   "execution_count": 43,
   "metadata": {},
   "outputs": [],
   "source": [
    "def update(content_collection, research_collection):\n",
    "    coll = input('choose C for Content collection, R for Research collection: ')\n",
    "    coll = coll[0].lower()\n",
    "    \n",
    "    if coll == 'c':\n",
    "        \n",
    "        idx = input('Insert the needed ID. to refresh your memory, use \"read\" function: ')\n",
    "        idx = ObjectId(idx)\n",
    "        obj = [a for a in content_collection.find({'_id':idx})][0]\n",
    "        pprint.pprint(obj)\n",
    "        change_dict = {}\n",
    "        \n",
    "        print('''You can only update several features:\n",
    "        - Page\n",
    "        - URL (if there is one)\n",
    "        - Note (in notes)''')\n",
    "        loop = int(input('how many parameters are you going to change?'))\n",
    "        for i in range(loop):\n",
    "            #print(i)\n",
    "            change_item = update_content_feature(obj)\n",
    "            change_dict = {**change_dict, **change_item}\n",
    "        if change_dict == {}:\n",
    "            print('Nothing to change!')\n",
    "        else:\n",
    "            content_collection.update_one({'_id':idx}, {'$set':change_dict})\n",
    "    \n",
    "    elif coll == 'r':\n",
    "        \n",
    "        idx = input('Insert the needed ID. to refresh your memory, use \"read\" function: ')\n",
    "        idx = ObjectId(idx)\n",
    "        obj = [a for a in research_collection.find({'_id':idx})][0]\n",
    "        pprint.pprint(obj)\n",
    "        change_dict = {}\n",
    "\n",
    "\n",
    "        s_i = obj['type']\n",
    "        #s_i = input('Press S if you want to update some Study, I if you want to update some Interview: ')\n",
    "        s_i = s_i[0].lower()\n",
    "        if s_i == 'i':\n",
    "            print('This is an interview.')\n",
    "            print('''You can only update several features:\n",
    "                - name\n",
    "                - place \n",
    "                - time''')\n",
    "            loop = int(input('how many parameters are you going to change?'))\n",
    "            \n",
    "            for i in range(loop):\n",
    "                change_item = update_interview_feature(obj)\n",
    "                change_dict = {**change_dict, **change_item}\n",
    "\n",
    "        elif s_i == 's':\n",
    "            print('This is a study.')\n",
    "            print('You can only add new data link.')\n",
    "            change_item = update_study_feature(obj)\n",
    "            change_dict['data'] = change_item\n",
    "            \n",
    "        if change_dict == {}:\n",
    "            print('Nothing to change!')\n",
    "        else:        \n",
    "            research_collection.update_one({'_id':idx}, {'$set':change_dict})\n",
    "    else:\n",
    "        return 'You must have mistyped something.'\n",
    "        \n",
    "    return 'done'\n",
    "\n",
    "\n",
    "def update_content_feature(obj):\n",
    "    \n",
    "    change_item = {}\n",
    "    edit = input('choose P to change page, U to change URL, N to change note: ')\n",
    "    edit = edit[0].lower()\n",
    "                \n",
    "    if edit == 'p':\n",
    "        \n",
    "        if 'page' in obj:\n",
    "            old_page = obj[\"page\"]\n",
    "            print(f'Currently, the page is {old_page}.')\n",
    "        else:\n",
    "            print('There is no page yet.')\n",
    "        page = input('Insert the needed page: ')\n",
    "        change_item['page'] = int(page)\n",
    "            \n",
    "    elif edit == 'u':\n",
    "            \n",
    "        if obj['type'] == 'meme':\n",
    "            old_url = obj[\"URL\"]\n",
    "            url_name = 'URL'\n",
    "        elif obj['type'] == 'QR-link':\n",
    "            old_url = obj[\"link\"]\n",
    "            url_name = 'link'\n",
    "        elif obj['type'] == 'problem':\n",
    "            old_url = obj[\"solution link\"]\n",
    "            url_name = 'solution link'\n",
    "        else:\n",
    "            old_url = obj['links']\n",
    "            url_name = 'links'\n",
    "            \n",
    "        if type(old_url) == str:\n",
    "            print(f'Current link is: {old_url}.')\n",
    "            new_url = input('If you want to change it, insert the link. If you don`t - press Enter. ')\n",
    "                \n",
    "            if new_url == '':\n",
    "                print('To change your mind in time is a great idea. See you later!')\n",
    "                return {}\n",
    "                \n",
    "            else:\n",
    "                change_item[url_name] = new_url\n",
    "        else:\n",
    "            links = [\"\\t\" + str(i) + \"\\t\" + l + \"\\n\" for i, l in enumerate(old_url)]\n",
    "            print(f'''Current links are: {links}.''')\n",
    "            change_add = input('Do you want to delete existing link or to add a new one? Press D to delete and A to add: ')\n",
    "            if change_add == 'a':\n",
    "                add = input('Insert the new link: ')\n",
    "                old_url.append(add)\n",
    "                new_url = old_url\n",
    "                \n",
    "            else:\n",
    "                delete = int(input('Type the index of the link to pop out: '))\n",
    "                new_url = [old_url[i] for i in range(len(old_url)) if i != delete]\n",
    "                \n",
    "            change_item[url_name] = new_url\n",
    "                \n",
    "    elif edit == 'n':\n",
    "        old_note = obj['text']\n",
    "        print(f'current note is: {old_note}')\n",
    "        new_note = input('If you want to change it, type in the note. If you don`t - press Enter. ')\n",
    "        \n",
    "        if new_note == '':\n",
    "            print('To change your mind in time is a great idea. See you later!')\n",
    "            return {}            \n",
    "        else:\n",
    "            change_item['text'] = new_note\n",
    "    \n",
    "    return change_item\n",
    "\n",
    "def update_interview_feature(obj):\n",
    "    change_item = {}\n",
    "    edit = input('choose N to change name, P - place, T - time: ')\n",
    "    edit = edit[0].lower()\n",
    "\n",
    "    if edit == 'n':\n",
    "        old_name = obj['name']\n",
    "        print(f'current name is: {old_name}')\n",
    "        new_name = input('If you want to change it, type in the name. If you don`t - press Enter. ')\n",
    "        \n",
    "        if new_name == '':\n",
    "            print('To change your mind in time is a great idea. See you later!')\n",
    "            return {}            \n",
    "        else:\n",
    "            change_item['name'] = new_name\n",
    "        \n",
    "    elif edit == 'p':\n",
    "        old_place = obj['place']\n",
    "        print(f'current place is: {old_place}')\n",
    "        new_place = input('If you want to change it, type in the place. If you don`t - press Enter. ')\n",
    "        \n",
    "        if new_place == '':\n",
    "            print('To change your mind in time is a great idea. See you later!')\n",
    "            return {}            \n",
    "        else:\n",
    "            change_item['place'] = new_place\n",
    "    \n",
    "    elif edit == 't':\n",
    "        old_time = obj['time']\n",
    "        print(f'current time is: {old_time}')\n",
    "        new_time = input('If you want to change it, type in the time. If you don`t - press Enter. ')\n",
    "        \n",
    "        if new_time == '':\n",
    "            print('To change your mind in time is a great idea. See you later!')\n",
    "            return {}            \n",
    "        else:\n",
    "            change_item['time'] = new_time       \n",
    "    \n",
    "    return change_item\n",
    "\n",
    "def update_study_feature(obj):\n",
    "    \n",
    "    change_item = {}\n",
    "    \n",
    "    old_links = obj['data']\n",
    "    watch_links = [\"\\t\" + str(i) + \"\\t\" + l + \"\\n\" for i, l in enumerate(old_links)]\n",
    "    print('''Current links are:''')\n",
    "    for l in watch_links:\n",
    "        print(f'\\t{l}\\t')\n",
    "    \n",
    "    add = input('Insert the new link: ')\n",
    "    new_links = [l for l in old_links]\n",
    "    new_links.append(add)\n",
    "    \n",
    "    return new_links\n",
    "   # change_item['data'] = new_links\n",
    "   # print(change_item)\n",
    "   # return change_item\n",
    "\n",
    "        "
   ]
  },
  {
   "cell_type": "code",
   "execution_count": 119,
   "metadata": {},
   "outputs": [
    {
     "name": "stdout",
     "output_type": "stream",
     "text": [
      "choose C for Content collection, R for Research collection: R\n",
      "Insert the needed ID. to refresh your memory, use \"read\" function: 5e84ef7581d1711e1a842dcf\n",
      "{'_id': ObjectId('5e84ef7581d1711e1a842dcf'),\n",
      " 'name': 'OXXXY',\n",
      " 'place': 'spb',\n",
      " 'time': '00.00.1703',\n",
      " 'type': 'interview'}\n",
      "This is an interview.\n",
      "You can only update several features:\n",
      "                - name\n",
      "                - place \n",
      "                - time\n",
      "how many parameters are you going to change?1\n",
      "choose N to change name, P - place, T - time: P\n",
      "current place is: spb\n",
      "If you want to change it, type in the place. If you don`t - press Enter. 59.925149, 30.361846\n"
     ]
    },
    {
     "data": {
      "text/plain": [
       "'done'"
      ]
     },
     "execution_count": 119,
     "metadata": {},
     "output_type": "execute_result"
    }
   ],
   "source": [
    "update(extra_content, research)"
   ]
  },
  {
   "cell_type": "markdown",
   "metadata": {},
   "source": [
    "## Delete"
   ]
  },
  {
   "cell_type": "code",
   "execution_count": 26,
   "metadata": {},
   "outputs": [],
   "source": [
    "def delete(content_collection, research_collection):\n",
    "    coll = input('choose C to delete from Content, R to delete from Research: ')\n",
    "    coll = coll[0].lower()\n",
    "    \n",
    "    if coll == 'c':\n",
    "        \n",
    "        idx = input('Insert the needed ID. to refresh your memory, use \"read\" function: ')\n",
    "        idx = ObjectId(idx)\n",
    "        obj = [a for a in content_collection.find({'_id':idx})][0]\n",
    "        pprint.pprint(obj) \n",
    "        \n",
    "        d = input('Do you want to delete it? Y for yes, N for no: ')\n",
    "        d = d[0].lower()\n",
    "        \n",
    "        if d == 'y':\n",
    "            content_collection.delete_one({'_id':idx})\n",
    "        else:\n",
    "            return 'To change your mind in time is a great idea. See you later!'\n",
    "    \n",
    "    elif coll == 'r':\n",
    "        \n",
    "        idx = input('Insert the needed ID. to refresh your memory, use \"read\" function: ')\n",
    "        idx = ObjectId(idx)\n",
    "        obj = [a for a in research_collection.find({'_id':idx})][0]\n",
    "        pprint.pprint(obj)\n",
    "        \n",
    "        d = input('Do you want to delete it? Y for yes, N for no: ')\n",
    "        d = d[0].lower()\n",
    "        \n",
    "        if d == 'y':\n",
    "            research_collection.delete_one({'_id':idx})\n",
    "        else:\n",
    "            return 'To change your mind in time is a great idea. See you later!'        \n",
    "    \n",
    "    return 'done'"
   ]
  },
  {
   "cell_type": "code",
   "execution_count": 40,
   "metadata": {},
   "outputs": [
    {
     "name": "stdout",
     "output_type": "stream",
     "text": [
      "choose C to delete from Content, R to delete from Research: R\n",
      "Insert the needed ID. to refresh your memory, use \"read\" function: 5e84f55981d1711e1a842dd1\n",
      "{'_id': ObjectId('5e84f55981d1711e1a842dd1'),\n",
      " 'data': {'data': ['data', 'f']},\n",
      " 'problem': 'анализ феминитивов по русским корпусам',\n",
      " 'type': 'study'}\n",
      "Do you want to delete it? Y for yes, N for no: Y\n"
     ]
    },
    {
     "data": {
      "text/plain": [
       "'done'"
      ]
     },
     "execution_count": 40,
     "metadata": {},
     "output_type": "execute_result"
    }
   ],
   "source": [
    "delete(extra_content, research)"
   ]
  },
  {
   "cell_type": "markdown",
   "metadata": {},
   "source": [
    "# Plus Ultra:\n",
    "\n",
    "## Sum"
   ]
  },
  {
   "cell_type": "code",
   "execution_count": 69,
   "metadata": {},
   "outputs": [
    {
     "name": "stdout",
     "output_type": "stream",
     "text": [
      "[{'_id': 'problem', 'count': 1},\n",
      " {'_id': 'term', 'count': 1},\n",
      " {'_id': 'meme', 'count': 7},\n",
      " {'_id': 'note', 'count': 1},\n",
      " {'_id': 'QR-link', 'count': 1}]\n"
     ]
    }
   ],
   "source": [
    "pipeline = [\n",
    "    {\"$unwind\": \"$type\"},\n",
    "    {\"$group\": {\"_id\": \"$type\", \"count\": {\"$sum\": 1}}},\n",
    "]\n",
    "heh = list(extra_content.aggregate(pipeline))\n",
    "pprint.pprint(list(extra_content.aggregate(pipeline)))"
   ]
  },
  {
   "cell_type": "code",
   "execution_count": 77,
   "metadata": {},
   "outputs": [
    {
     "name": "stdout",
     "output_type": "stream",
     "text": [
      "[{'_id': 'problem', 'count': 1}, {'_id': 'term', 'count': 1}, {'_id': 'meme', 'count': 7}, {'_id': 'note', 'count': 1}, {'_id': 'QR-link', 'count': 1}]\n"
     ]
    }
   ],
   "source": [
    "print(heh)"
   ]
  },
  {
   "cell_type": "code",
   "execution_count": 78,
   "metadata": {},
   "outputs": [
    {
     "ename": "TypeError",
     "evalue": "__init__() got an unexpected keyword argument 'orient'",
     "output_type": "error",
     "traceback": [
      "\u001b[1;31m---------------------------------------------------------------------------\u001b[0m",
      "\u001b[1;31mTypeError\u001b[0m                                 Traceback (most recent call last)",
      "\u001b[1;32m<ipython-input-78-8c0a4a44faea>\u001b[0m in \u001b[0;36m<module>\u001b[1;34m\u001b[0m\n\u001b[0;32m      1\u001b[0m \u001b[1;32mimport\u001b[0m \u001b[0mpandas\u001b[0m \u001b[1;32mas\u001b[0m \u001b[0mpd\u001b[0m\u001b[1;33m\u001b[0m\u001b[1;33m\u001b[0m\u001b[0m\n\u001b[1;32m----> 2\u001b[1;33m \u001b[0mdf\u001b[0m \u001b[1;33m=\u001b[0m \u001b[0mpd\u001b[0m\u001b[1;33m.\u001b[0m\u001b[0mDataFrame\u001b[0m\u001b[1;33m(\u001b[0m\u001b[0mheh\u001b[0m\u001b[1;33m,\u001b[0m \u001b[0morient\u001b[0m\u001b[1;33m=\u001b[0m\u001b[1;34m'index'\u001b[0m\u001b[1;33m)\u001b[0m\u001b[1;33m\u001b[0m\u001b[1;33m\u001b[0m\u001b[0m\n\u001b[0m\u001b[0;32m      3\u001b[0m \u001b[0mdf\u001b[0m\u001b[1;33m.\u001b[0m\u001b[0mhead\u001b[0m\u001b[1;33m(\u001b[0m\u001b[1;33m)\u001b[0m\u001b[1;33m\u001b[0m\u001b[1;33m\u001b[0m\u001b[0m\n",
      "\u001b[1;31mTypeError\u001b[0m: __init__() got an unexpected keyword argument 'orient'"
     ]
    }
   ],
   "source": [
    "import pandas as pd\n",
    "df = pd.DataFrame(heh, orient='index')\n",
    "df.head()"
   ]
  },
  {
   "cell_type": "code",
   "execution_count": 85,
   "metadata": {},
   "outputs": [],
   "source": [
    "def summing(content_collection, research_collection):\n",
    "    coll = input('choose C to sum different items over Content, R - over Research: ')\n",
    "    coll = coll[0].lower()\n",
    "    pipeline = [\n",
    "        {\"$unwind\": \"$type\"},\n",
    "        {\"$group\": {\"_id\": \"$type\", \"count\": {\"$sum\": 1}}}\n",
    "    ]\n",
    "    \n",
    "    if coll == 'c':\n",
    "        df_ = list(content_collection.aggregate(pipeline))\n",
    "\n",
    "    elif coll == 'r':\n",
    "        df_ = list(research_collection.aggregate(pipeline))\n",
    "        \n",
    "    else:\n",
    "        return 'you must have mistyped something.'\n",
    "    \n",
    "    data = {'type':[], 'count':[]}\n",
    "    for d in df_:\n",
    "        data['type'].append(d['_id'])\n",
    "        data['count'].append(d['count'])\n",
    "    \n",
    "    global res_df\n",
    "    #print(data)\n",
    "    #print(res_df)\n",
    "    res_df = pd.DataFrame(data, columns=['type', 'count'])\n",
    "    #res_df.head()"
   ]
  },
  {
   "cell_type": "code",
   "execution_count": 86,
   "metadata": {
    "scrolled": true
   },
   "outputs": [
    {
     "name": "stdout",
     "output_type": "stream",
     "text": [
      "choose C to sum different items over Content, R - over Research: R\n"
     ]
    },
    {
     "data": {
      "text/html": [
       "<div>\n",
       "<style scoped>\n",
       "    .dataframe tbody tr th:only-of-type {\n",
       "        vertical-align: middle;\n",
       "    }\n",
       "\n",
       "    .dataframe tbody tr th {\n",
       "        vertical-align: top;\n",
       "    }\n",
       "\n",
       "    .dataframe thead th {\n",
       "        text-align: right;\n",
       "    }\n",
       "</style>\n",
       "<table border=\"1\" class=\"dataframe\">\n",
       "  <thead>\n",
       "    <tr style=\"text-align: right;\">\n",
       "      <th></th>\n",
       "      <th>type</th>\n",
       "      <th>count</th>\n",
       "    </tr>\n",
       "  </thead>\n",
       "  <tbody>\n",
       "    <tr>\n",
       "      <th>0</th>\n",
       "      <td>study</td>\n",
       "      <td>1</td>\n",
       "    </tr>\n",
       "    <tr>\n",
       "      <th>1</th>\n",
       "      <td>interview</td>\n",
       "      <td>2</td>\n",
       "    </tr>\n",
       "  </tbody>\n",
       "</table>\n",
       "</div>"
      ],
      "text/plain": [
       "        type  count\n",
       "0      study      1\n",
       "1  interview      2"
      ]
     },
     "execution_count": 86,
     "metadata": {},
     "output_type": "execute_result"
    }
   ],
   "source": [
    "summing(extra_content, research)\n",
    "res_df"
   ]
  },
  {
   "cell_type": "markdown",
   "metadata": {},
   "source": [
    "## Sort"
   ]
  },
  {
   "cell_type": "code",
   "execution_count": 48,
   "metadata": {},
   "outputs": [],
   "source": [
    "def sorting(content):\n",
    "    print('Here you will see the sorting of content by pages.')\n",
    "    way = input('Print A for ascending sorting of pages, D for descending: ')\n",
    "    way = way[0].lower()\n",
    "    \n",
    "    if way == 'a':\n",
    "        for el in content.find({'page': {'$exists':True}}).sort(\"page\",pymongo.ASCENDING):\n",
    "            pprint.pprint(el)\n",
    "    elif way == 'd':\n",
    "        for el in content.find().sort(\"page\",pymongo.DESCENDING):\n",
    "            pprint.pprint(el)\n",
    "    \n",
    "    return 'done'"
   ]
  },
  {
   "cell_type": "code",
   "execution_count": 50,
   "metadata": {},
   "outputs": [
    {
     "name": "stdout",
     "output_type": "stream",
     "text": [
      "Print A for ascending sorting of pages, D for descending: D\n",
      "{'_id': ObjectId('5e84415d3a9663e4e0dac79f'),\n",
      " 'page': 32435,\n",
      " 'text': 'you say sorry just for sure',\n",
      " 'type': 'note'}\n",
      "{'_id': ObjectId('5e84423c3a9663e4e0dac7a1'),\n",
      " 'explanation': 'Диссертация про феминитивы в смоленских говорах',\n",
      " 'link': 'https://yadi.sk/d/G-Fwe80VIobe0Q',\n",
      " 'page': 1234,\n",
      " 'type': 'QR-link'}\n",
      "{'URL': 'http://fuck.off',\n",
      " '_id': ObjectId('5e84eef881d1711e1a842dcd'),\n",
      " 'explanation': 'born to be deleted',\n",
      " 'page': 234,\n",
      " 'type': 'meme'}\n",
      "{'URL': 'https://cs11.pikabu.ru/post_img/big/2019/03/13/12/1552508232183053384.jpg',\n",
      " '_id': ObjectId('5e8444a53a9663e4e0dac7a5'),\n",
      " 'explanation': '',\n",
      " 'page': 45,\n",
      " 'type': 'meme'}\n",
      "{'URL': 'https://cs11.pikabu.ru/post_img/big/2019/03/13/12/1552508232183053384.jpg',\n",
      " '_id': ObjectId('5e8445af3a9663e4e0dac7a7'),\n",
      " 'explanation': '---',\n",
      " 'page': 45,\n",
      " 'type': 'meme'}\n",
      "{'URL': 'http://risovach.ru/upload/2014/03/mem/zlye-roditeli_44536052_orig_.jpg',\n",
      " '_id': ObjectId('5e84465f3a9663e4e0dac7aa'),\n",
      " 'explanation': 'Это не совсем тот мем, что нужно. Замените \"переводчик\" на '\n",
      "                '\"лингвист\" - и получите такого же супергероя, как '\n",
      "                '\"тыжпрограммист\" и \"тыжеврач\".',\n",
      " 'page': 23,\n",
      " 'type': 'meme'}\n",
      "{'_id': ObjectId('5e8443683a9663e4e0dac7a3'),\n",
      " 'comment': 'пригодность морфемы, словообразовательной или словоизменительной '\n",
      "            'модели для образования новых слов и словоформ. Морфемы с высокой '\n",
      "            'продуктивностью называются продуктивными, с низкой — '\n",
      "            'непродуктивными.',\n",
      " 'links': ['https://ru.wikipedia.org/wiki/%D0%9F%D1%80%D0%BE%D0%B4%D1%83%D0%BA%D1%82%D0%B8%D0%B2%D0%BD%D0%BE%D1%81%D1%82%D1%8C_(%D0%BB%D0%B8%D0%BD%D0%B3%D0%B2%D0%B8%D1%81%D1%82%D0%B8%D0%BA%D0%B0)'],\n",
      " 'page': 3,\n",
      " 'term': 'Продуктивность',\n",
      " 'type': 'term'}\n",
      "{'URL': 'http://lol.jpg',\n",
      " '_id': ObjectId('5e84465f3a9663e4e0dac7a9'),\n",
      " 'explanation': '',\n",
      " 'page': 1,\n",
      " 'type': 'meme'}\n",
      "{'_id': ObjectId('5e8443683a9663e4e0dac7a2'),\n",
      " 'problem': 'В словаре Владимира Даля встречается ныне забытое слово '\n",
      "            'колоземица. Каким заимствованным словом оно оказалось вытеснено в '\n",
      "            'наши дни?  (А) циклон; (Б) космос; (В) атмосфера; (Г) вьюга; (Д) '\n",
      "            'катакомба.',\n",
      " 'solution link': 'https://slovesnik.org/images/docs/zadaniaolimpiad/Med_2002.pdf',\n",
      " 'type': 'problem'}\n",
      "{'URL': 'http://risovach.ru/upload/2014/03/mem/zlye-roditeli_44536052_orig_.jpg',\n",
      " '_id': ObjectId('5e8444a53a9663e4e0dac7a6'),\n",
      " 'explanation': 'Это не совсем тот мем, что нужно. Замените \"переводчик\" на '\n",
      "                '\"лингвист\" - и получите такого же супергероя, как '\n",
      "                '\"тыжпрограммист\" и \"тыжеврач\".',\n",
      " 'type': 'meme'}\n",
      "{'URL': 'http://risovach.ru/upload/2014/03/mem/zlye-roditeli_44536052_orig_.jpg',\n",
      " '_id': ObjectId('5e8445af3a9663e4e0dac7a8'),\n",
      " 'explanation': 'Это не совсем тот мем, что нужно. Замените \"переводчик\" на '\n",
      "                '\"лингвист\" - и получите такого же супергероя, как '\n",
      "                '\"тыжпрограммист\" и \"тыжеврач\".',\n",
      " 'type': 'meme'}\n"
     ]
    },
    {
     "data": {
      "text/plain": [
       "'done'"
      ]
     },
     "execution_count": 50,
     "metadata": {},
     "output_type": "execute_result"
    }
   ],
   "source": [
    "sorting(extra_content)"
   ]
  },
  {
   "cell_type": "markdown",
   "metadata": {},
   "source": [
    "# Work with text"
   ]
  },
  {
   "cell_type": "code",
   "execution_count": 163,
   "metadata": {},
   "outputs": [],
   "source": [
    "from nltk.stem.snowball import SnowballStemmer \n",
    "import re"
   ]
  },
  {
   "cell_type": "code",
   "execution_count": 164,
   "metadata": {},
   "outputs": [],
   "source": [
    "def search_by_triggers(content_collection, research_collection):\n",
    "    coll = input('choose C to search over Content, R - over Research, B - over both: ')\n",
    "    coll = coll[0].lower()\n",
    "\n",
    "    trigger = input('Type in the word: ')\n",
    "    stemmer = SnowballStemmer(\"russian\") \n",
    "    trigger = stemmer.stem(trigger)\n",
    "    var = trigger[0].upper()\n",
    "    regex = f'[{var}{trigger[0]}]{trigger[1:]}'\n",
    "\n",
    "    if coll == 'c':\n",
    "\n",
    "        #print(regex)\n",
    "        for el in content_collection.find({'$or':[{'explanation':{'$regex':regex}},\n",
    "                                                  {'text':{'$regex':regex}}, {'problem':{'$regex':regex}}, \n",
    "                                                  {'term':{'$regex':regex}}, {'comment':{'$regex':regex}}]}):\n",
    "            pprint.pprint(el)\n",
    "            print('-----------------')\n",
    "            \n",
    "    elif coll == 'r':\n",
    "\n",
    "        #print(regex)\n",
    "        for el in research_collection.find({'$or':[{'name':{'$regex':regex}}, {'problem':{'$regex':regex}}]}):\n",
    "            pprint.pprint(el)\n",
    "            print('-----------------')\n",
    "            \n",
    "    elif coll == 'b':\n",
    "        print('MATCHES AMONG CONTENT: ')\n",
    "        for el in content_collection.find({'$or':[{'explanation':{'$regex':regex}},\n",
    "                                                  {'text':{'$regex':regex}}, {'problem':{'$regex':regex}}, \n",
    "                                                  {'term':{'$regex':regex}}, {'comment':{'$regex':regex}}]}):\n",
    "            pprint.pprint(el)\n",
    "            print('-----------------')\n",
    "        print('\\n================\\n')\n",
    "        \n",
    "        print('MATCHES AMONG RESEARCH: ')\n",
    "        \n",
    "        for el in research.find({'$or':[{'name':{'$regex':regex}}, {'problem':{'$regex':regex}}]}):\n",
    "            pprint.pprint(el)\n",
    "            print('-----------------')"
   ]
  },
  {
   "cell_type": "code",
   "execution_count": 165,
   "metadata": {},
   "outputs": [
    {
     "name": "stdout",
     "output_type": "stream",
     "text": [
      "choose C to search over Content, R - over Research, B - over both: B\n",
      "Type in the word: феминитивы\n",
      "MATCHES AMONG CONTENT: \n",
      "{'_id': ObjectId('5e84423c3a9663e4e0dac7a1'),\n",
      " 'explanation': 'Диссертация про феминитивы в смоленских говорах',\n",
      " 'link': 'https://yadi.sk/d/G-Fwe80VIobe0Q',\n",
      " 'page': 1234,\n",
      " 'type': 'QR-link'}\n",
      "-----------------\n",
      "\n",
      "================\n",
      "\n",
      "MATCHES AMONG RESEARCH: \n",
      "{'_id': ObjectId('5e84fa6281d1711e1a842dd2'),\n",
      " 'data': ['http://ruscorpora.ru/new/',\n",
      "          'https://www.sketchengine.eu/rutenten-russian-corpus/',\n",
      "          'https://books.google.com/ngrams/'],\n",
      " 'problem': 'корпусный анализ феминитивов',\n",
      " 'type': 'study'}\n",
      "-----------------\n"
     ]
    }
   ],
   "source": [
    "search_by_triggers(extra_content, research)"
   ]
  },
  {
   "cell_type": "code",
   "execution_count": null,
   "metadata": {},
   "outputs": [],
   "source": [
    "def prettify_results(res):\n",
    "    for el in res:\n",
    "        "
   ]
  },
  {
   "cell_type": "code",
   "execution_count": 137,
   "metadata": {},
   "outputs": [],
   "source": [
    "import re"
   ]
  },
  {
   "cell_type": "code",
   "execution_count": 136,
   "metadata": {},
   "outputs": [
    {
     "data": {
      "text/plain": [
       "'феминистк'"
      ]
     },
     "execution_count": 136,
     "metadata": {},
     "output_type": "execute_result"
    }
   ],
   "source": [
    "\n",
    "stemmer.stem(\"Феминисткой\")"
   ]
  },
  {
   "cell_type": "markdown",
   "metadata": {},
   "source": [
    "# Work with geojson"
   ]
  },
  {
   "cell_type": "code",
   "execution_count": 89,
   "metadata": {},
   "outputs": [],
   "source": [
    "from ipyleaflet import *"
   ]
  },
  {
   "cell_type": "code",
   "execution_count": 127,
   "metadata": {},
   "outputs": [
    {
     "data": {
      "text/plain": [
       "float"
      ]
     },
     "execution_count": 127,
     "metadata": {},
     "output_type": "execute_result"
    }
   ],
   "source": [
    "type(4.3)"
   ]
  },
  {
   "cell_type": "code",
   "execution_count": 130,
   "metadata": {},
   "outputs": [],
   "source": [
    "def create_geojson(research_collection):\n",
    "    for el in research_collection.find({'type':'interview'}):\n",
    "        coord = el['place']\n",
    "        coord = [float(i) for i in coord.split(', ')]\n",
    "        mark = el['name']\n",
    "        point = Point(coord)\n",
    "        print(point)"
   ]
  },
  {
   "cell_type": "code",
   "execution_count": 131,
   "metadata": {},
   "outputs": [
    {
     "name": "stdout",
     "output_type": "stream",
     "text": [
      "{\"coordinates\": [55.962962, 37.405983], \"type\": \"Point\"}\n",
      "{\"coordinates\": [59.925149, 30.361846], \"type\": \"Point\"}\n"
     ]
    }
   ],
   "source": [
    "create_geojson(research)"
   ]
  },
  {
   "cell_type": "code",
   "execution_count": 110,
   "metadata": {},
   "outputs": [],
   "source": [
    "p = GeoJSON(data={\"coordinates\": [-115.81, 37.24], \"type\": \"Point\", \"color\":\"Red\"})"
   ]
  },
  {
   "cell_type": "code",
   "execution_count": 113,
   "metadata": {
    "scrolled": true
   },
   "outputs": [
    {
     "ename": "LayerException",
     "evalue": "layer already on map: GeoJSON(data={'coordinates': [-115.81, 37.24], 'type': 'Point', 'color': 'Red'})",
     "output_type": "error",
     "traceback": [
      "\u001b[1;31m---------------------------------------------------------------------------\u001b[0m",
      "\u001b[1;31mLayerException\u001b[0m                            Traceback (most recent call last)",
      "\u001b[1;32m<ipython-input-113-ce197f6a0591>\u001b[0m in \u001b[0;36m<module>\u001b[1;34m\u001b[0m\n\u001b[1;32m----> 1\u001b[1;33m \u001b[0mdisplay\u001b[0m\u001b[1;33m(\u001b[0m\u001b[0mm\u001b[0m\u001b[1;33m.\u001b[0m\u001b[0madd_layer\u001b[0m\u001b[1;33m(\u001b[0m\u001b[0mp\u001b[0m\u001b[1;33m)\u001b[0m\u001b[1;33m)\u001b[0m\u001b[1;33m\u001b[0m\u001b[1;33m\u001b[0m\u001b[0m\n\u001b[0m",
      "\u001b[1;32mc:\\python36\\lib\\site-packages\\ipyleaflet\\leaflet.py\u001b[0m in \u001b[0;36madd_layer\u001b[1;34m(self, layer)\u001b[0m\n\u001b[0;32m   1018\u001b[0m             \u001b[0mlayer\u001b[0m \u001b[1;33m=\u001b[0m \u001b[0mbasemap_to_tiles\u001b[0m\u001b[1;33m(\u001b[0m\u001b[0mlayer\u001b[0m\u001b[1;33m)\u001b[0m\u001b[1;33m\u001b[0m\u001b[1;33m\u001b[0m\u001b[0m\n\u001b[0;32m   1019\u001b[0m         \u001b[1;32mif\u001b[0m \u001b[0mlayer\u001b[0m\u001b[1;33m.\u001b[0m\u001b[0mmodel_id\u001b[0m \u001b[1;32min\u001b[0m \u001b[0mself\u001b[0m\u001b[1;33m.\u001b[0m\u001b[0m_layer_ids\u001b[0m\u001b[1;33m:\u001b[0m\u001b[1;33m\u001b[0m\u001b[1;33m\u001b[0m\u001b[0m\n\u001b[1;32m-> 1020\u001b[1;33m             \u001b[1;32mraise\u001b[0m \u001b[0mLayerException\u001b[0m\u001b[1;33m(\u001b[0m\u001b[1;34m'layer already on map: %r'\u001b[0m \u001b[1;33m%\u001b[0m \u001b[0mlayer\u001b[0m\u001b[1;33m)\u001b[0m\u001b[1;33m\u001b[0m\u001b[1;33m\u001b[0m\u001b[0m\n\u001b[0m\u001b[0;32m   1021\u001b[0m         \u001b[0mself\u001b[0m\u001b[1;33m.\u001b[0m\u001b[0mlayers\u001b[0m \u001b[1;33m=\u001b[0m \u001b[0mtuple\u001b[0m\u001b[1;33m(\u001b[0m\u001b[1;33m[\u001b[0m\u001b[0ml\u001b[0m \u001b[1;32mfor\u001b[0m \u001b[0ml\u001b[0m \u001b[1;32min\u001b[0m \u001b[0mself\u001b[0m\u001b[1;33m.\u001b[0m\u001b[0mlayers\u001b[0m\u001b[1;33m]\u001b[0m \u001b[1;33m+\u001b[0m \u001b[1;33m[\u001b[0m\u001b[0mlayer\u001b[0m\u001b[1;33m]\u001b[0m\u001b[1;33m)\u001b[0m\u001b[1;33m\u001b[0m\u001b[1;33m\u001b[0m\u001b[0m\n\u001b[0;32m   1022\u001b[0m \u001b[1;33m\u001b[0m\u001b[0m\n",
      "\u001b[1;31mLayerException\u001b[0m: layer already on map: GeoJSON(data={'coordinates': [-115.81, 37.24], 'type': 'Point', 'color': 'Red'})"
     ]
    }
   ],
   "source": [
    "m.add_layer(p)"
   ]
  },
  {
   "cell_type": "code",
   "execution_count": 114,
   "metadata": {},
   "outputs": [
    {
     "data": {
      "application/vnd.jupyter.widget-view+json": {
       "model_id": "f74a31a79679417a9ffb8202af997afd",
       "version_major": 2,
       "version_minor": 0
      },
      "text/plain": [
       "Map(center=[56, 37], controls=(ZoomControl(options=['position', 'zoom_in_text', 'zoom_in_title', 'zoom_out_tex…"
      ]
     },
     "metadata": {},
     "output_type": "display_data"
    }
   ],
   "source": [
    "display(m)"
   ]
  },
  {
   "cell_type": "code",
   "execution_count": 104,
   "metadata": {},
   "outputs": [
    {
     "data": {
      "application/vnd.jupyter.widget-view+json": {
       "model_id": "f74a31a79679417a9ffb8202af997afd",
       "version_major": 2,
       "version_minor": 0
      },
      "text/plain": [
       "Map(center=[56, 37], controls=(ZoomControl(options=['position', 'zoom_in_text', 'zoom_in_title', 'zoom_out_tex…"
      ]
     },
     "metadata": {},
     "output_type": "display_data"
    }
   ],
   "source": [
    "m = Map(center=(56, 37), zoom=9, basemap=basemaps.Hydda.Full)\n",
    "m"
   ]
  },
  {
   "cell_type": "code",
   "execution_count": null,
   "metadata": {},
   "outputs": [],
   "source": []
  }
 ],
 "metadata": {
  "kernelspec": {
   "display_name": "Python 3",
   "language": "python",
   "name": "python3"
  },
  "language_info": {
   "codemirror_mode": {
    "name": "ipython",
    "version": 3
   },
   "file_extension": ".py",
   "mimetype": "text/x-python",
   "name": "python",
   "nbconvert_exporter": "python",
   "pygments_lexer": "ipython3",
   "version": "3.6.8"
  }
 },
 "nbformat": 4,
 "nbformat_minor": 2
}
