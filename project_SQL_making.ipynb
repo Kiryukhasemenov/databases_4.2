{
 "cells": [
  {
   "cell_type": "markdown",
   "metadata": {},
   "source": [
    "https://www.datacamp.com/community/tutorials/mysql-python"
   ]
  },
  {
   "cell_type": "code",
   "execution_count": 1,
   "metadata": {},
   "outputs": [],
   "source": [
    "import mysql"
   ]
  },
  {
   "cell_type": "code",
   "execution_count": 1,
   "metadata": {},
   "outputs": [],
   "source": [
    "import mysql.connector as mysql\n"
   ]
  },
  {
   "cell_type": "code",
   "execution_count": 6,
   "metadata": {},
   "outputs": [],
   "source": [
    "cursor.execute(\"DROP DATABASE ruscorpora_ru_zh\")"
   ]
  },
  {
   "cell_type": "code",
   "execution_count": 7,
   "metadata": {
    "scrolled": true
   },
   "outputs": [],
   "source": [
    "cursor.execute(\"CREATE DATABASE ruscorpora_ru_zh DEFAULT CHARACTER SET 'utf8'\")"
   ]
  },
  {
   "cell_type": "code",
   "execution_count": 21,
   "metadata": {},
   "outputs": [],
   "source": [
    "db = mysql.connect(\n",
    "    host = \"localhost\",\n",
    "    user = \"kirill_user\",\n",
    "    passwd = \"Xilier2908\",\n",
    "    database = 'ruscorpora_ru_zh',\n",
    "    charset='utf8',\n",
    "    use_unicode=True\n",
    ")\n",
    "\n",
    "cursor = db.cursor()"
   ]
  },
  {
   "cell_type": "markdown",
   "metadata": {},
   "source": [
    "## Makin' table namba 1"
   ]
  },
  {
   "cell_type": "code",
   "execution_count": 23,
   "metadata": {},
   "outputs": [],
   "source": [
    "cursor.execute(\"\"\"DROP TABLE members IF EXISTS;\n",
    "                CREATE TABLE members (member_id INT(11) NOT NULL AUTO_INCREMENT PRIMARY KEY, \n",
    "                member_name VARCHAR(255), member_position VARCHAR(255), member_responsibility VARCHAR(255), \n",
    "                member_country VARCHAR(20), member_phone BIGINT(20), member_email VARCHAR(64), member_isactive TINYINT(2))\"\"\")"
   ]
  },
  {
   "cell_type": "code",
   "execution_count": 73,
   "metadata": {},
   "outputs": [
    {
     "name": "stdout",
     "output_type": "stream",
     "text": [
      "[('members',), ('meta_texts',)]\n"
     ]
    }
   ],
   "source": [
    "cursor.execute(\"SHOW TABLES\")\n",
    "\n",
    "tables = cursor.fetchall()\n",
    "print(tables)"
   ]
  },
  {
   "cell_type": "code",
   "execution_count": 24,
   "metadata": {},
   "outputs": [],
   "source": [
    "member_1 = ('Семенов Кирилл Игоревич', 'ВШЭ, студент ФиКЛа', 'координатор корпуса, HR', 'Россия', '89168024970', 'kir.semenow@yandex.ru', '1') \n",
    "\n",
    "insert_1_query = \"\"\"INSERT INTO members (member_name, member_position, member_responsibility, member_country, member_phone, member_email, member_isactive)\n",
    "                    VALUES (%s, %s, %s, %s, %s, %s, %s)\"\"\"\n",
    "\n",
    "cursor.execute(insert_1_query, member_1)\n",
    "db.commit()"
   ]
  },
  {
   "cell_type": "code",
   "execution_count": 151,
   "metadata": {},
   "outputs": [],
   "source": [
    "member_to_kick = ('Ленивый участник', 'ВШЭ, студент ФиКЛа', 'разметка', 'Россия', None, 'example@yandex.ru', '1') \n",
    "\n",
    "insert_1_query = \"\"\"INSERT INTO members (member_name, member_position, member_responsibility, member_country, member_phone, member_email, member_isactive)\n",
    "                    VALUES (%s, %s, %s, %s, %s, %s, %s)\"\"\"\n",
    "\n",
    "cursor.execute(insert_1_query, member_to_kick)\n",
    "db.commit()"
   ]
  },
  {
   "cell_type": "code",
   "execution_count": 36,
   "metadata": {},
   "outputs": [
    {
     "ename": "InternalError",
     "evalue": "Unread result found",
     "output_type": "error",
     "traceback": [
      "\u001b[1;31m---------------------------------------------------------------------------\u001b[0m",
      "\u001b[1;31mInternalError\u001b[0m                             Traceback (most recent call last)",
      "\u001b[1;32m<ipython-input-36-62dd00a7ebdb>\u001b[0m in \u001b[0;36m<module>\u001b[1;34m\u001b[0m\n\u001b[1;32m----> 1\u001b[1;33m \u001b[0mcursor\u001b[0m\u001b[1;33m.\u001b[0m\u001b[0mexecute\u001b[0m\u001b[1;33m(\u001b[0m\u001b[1;34m\"\"\"SELECT * FROM members\"\"\"\u001b[0m\u001b[1;33m)\u001b[0m\u001b[1;33m\u001b[0m\u001b[1;33m\u001b[0m\u001b[0m\n\u001b[0m\u001b[0;32m      2\u001b[0m \u001b[0mmembers\u001b[0m \u001b[1;33m=\u001b[0m \u001b[0mcursor\u001b[0m\u001b[1;33m.\u001b[0m\u001b[0mfetchall\u001b[0m\u001b[1;33m(\u001b[0m\u001b[1;33m)\u001b[0m\u001b[1;33m\u001b[0m\u001b[1;33m\u001b[0m\u001b[0m\n\u001b[0;32m      3\u001b[0m \u001b[0mprint\u001b[0m\u001b[1;33m(\u001b[0m\u001b[0mmembers\u001b[0m\u001b[1;33m)\u001b[0m\u001b[1;33m\u001b[0m\u001b[1;33m\u001b[0m\u001b[0m\n",
      "\u001b[1;32mc:\\python36\\lib\\site-packages\\mysql\\connector\\cursor_cext.py\u001b[0m in \u001b[0;36mexecute\u001b[1;34m(self, operation, params, multi)\u001b[0m\n\u001b[0;32m    232\u001b[0m         \u001b[1;32mif\u001b[0m \u001b[1;32mnot\u001b[0m \u001b[0mself\u001b[0m\u001b[1;33m.\u001b[0m\u001b[0m_cnx\u001b[0m\u001b[1;33m:\u001b[0m\u001b[1;33m\u001b[0m\u001b[1;33m\u001b[0m\u001b[0m\n\u001b[0;32m    233\u001b[0m             \u001b[1;32mraise\u001b[0m \u001b[0merrors\u001b[0m\u001b[1;33m.\u001b[0m\u001b[0mProgrammingError\u001b[0m\u001b[1;33m(\u001b[0m\u001b[1;34m\"Cursor is not connected\"\u001b[0m\u001b[1;33m)\u001b[0m\u001b[1;33m\u001b[0m\u001b[1;33m\u001b[0m\u001b[0m\n\u001b[1;32m--> 234\u001b[1;33m         \u001b[0mself\u001b[0m\u001b[1;33m.\u001b[0m\u001b[0m_cnx\u001b[0m\u001b[1;33m.\u001b[0m\u001b[0mhandle_unread_result\u001b[0m\u001b[1;33m(\u001b[0m\u001b[1;33m)\u001b[0m\u001b[1;33m\u001b[0m\u001b[1;33m\u001b[0m\u001b[0m\n\u001b[0m\u001b[0;32m    235\u001b[0m \u001b[1;33m\u001b[0m\u001b[0m\n\u001b[0;32m    236\u001b[0m         \u001b[0mstmt\u001b[0m \u001b[1;33m=\u001b[0m \u001b[1;34m''\u001b[0m\u001b[1;33m\u001b[0m\u001b[1;33m\u001b[0m\u001b[0m\n",
      "\u001b[1;32mc:\\python36\\lib\\site-packages\\mysql\\connector\\connection_cext.py\u001b[0m in \u001b[0;36mhandle_unread_result\u001b[1;34m(self, prepared)\u001b[0m\n\u001b[0;32m    693\u001b[0m             \u001b[0mself\u001b[0m\u001b[1;33m.\u001b[0m\u001b[0mconsume_results\u001b[0m\u001b[1;33m(\u001b[0m\u001b[1;33m)\u001b[0m\u001b[1;33m\u001b[0m\u001b[1;33m\u001b[0m\u001b[0m\n\u001b[0;32m    694\u001b[0m         \u001b[1;32melif\u001b[0m \u001b[0munread_result\u001b[0m\u001b[1;33m:\u001b[0m\u001b[1;33m\u001b[0m\u001b[1;33m\u001b[0m\u001b[0m\n\u001b[1;32m--> 695\u001b[1;33m             \u001b[1;32mraise\u001b[0m \u001b[0merrors\u001b[0m\u001b[1;33m.\u001b[0m\u001b[0mInternalError\u001b[0m\u001b[1;33m(\u001b[0m\u001b[1;34m\"Unread result found\"\u001b[0m\u001b[1;33m)\u001b[0m\u001b[1;33m\u001b[0m\u001b[1;33m\u001b[0m\u001b[0m\n\u001b[0m",
      "\u001b[1;31mInternalError\u001b[0m: Unread result found"
     ]
    }
   ],
   "source": [
    "cursor.execute(\"\"\"SELECT * FROM members\"\"\")\n",
    "members = cursor.fetchall()\n",
    "print(members)"
   ]
  },
  {
   "cell_type": "code",
   "execution_count": 25,
   "metadata": {},
   "outputs": [],
   "source": [
    "members = [\n",
    "    ('Плунгян Владимир Александрович', 'ИРЯ РАН, зам. директора, д.ф.н., акад. РАН; МГУ, проф.', 'руководство, идейное вдохновление', 'Россия', '89036729461', 'plungian@gmail.com', '1'),\n",
    "    ('Рахилина Екатерина Владимировна', 'ВШЭ, руководитель Школы лингвистики, д.ф.н., проф.', 'руководство, идейное вдохновление', 'Россия', '89646403217', 'rakhilina@gmail.com', '1'),\n",
    "    ('Сичинава Дмитрий Владимирович', 'ИРЯ РАН, ст. научный сотрудник, ВШЭ, доцент', 'координация, вывеска корпуса, консультации', 'Россия и др.', '89166421834', 'mitrius@gmail.com', '1'),\n",
    "    ('Холкина Лилия Сергеевна', 'РГГУ, доцент', 'координация по работе с китайскими коллегами', 'Россия', '89267035065', 'kholkina@gmail.com', '0'),\n",
    "    ('Дурнева Софья', 'ВШЭ, студентка ФиКЛ', 'выравнивание текстов', 'Россия', '89262202935', 'sonia.durneva@gmail.com', '1'),\n",
    "    ('Кузнецова Юлия', 'МГУ, студентка 2 курса ОТиПЛ','выравнивание текстов, контакты с китайским NLP',  'Россия', '89161481461', ' kuznetsova.yn@gmail.com', '1'),\n",
    "    ('Ксения Ульянова', 'АлтГУ, к.ф.н.', 'пополнение текстов деловой переписки; создание методического пособия по китайской стилистике', 'Россия', '89069441317', 'liulang689@gmail.com', '1'),\n",
    "    ('Ли Сюэ', 'МГУ, аспирантка', 'not defined', 'Россия', None, 'lingxinlx@yandex.com', '1'),\n",
    "    ('Сюй Банцзюнь', 'СПбГУ, аспирантка', 'not defined', 'Россия', None, 'yuner18@126.com', '1'),\n",
    "    ('Ян Сяоюнь', 'СПбГУ, аспирантка', 'not defined', 'Россия', None, 'veraxu2006@126.com', '1'),\n",
    "    ('Синь На (и ко)', 'Хэйлунцзянский университет, Институт лексикографии', 'выравнивание текстов', 'КНР', None, 'xinna@hlju.edu.cn', '1'),\n",
    "    ('Юань Мяосюй (и ко)', 'Чжэцзянский университет, Институт иностранных языков', 'выравнивание текстов', 'КНР', None, 'galinayuan@mail.ru', '1'),\n",
    "    ('Сладкевич Владислав', 'МГУ, студент 2 курса ОТиПЛ', 'разработка кода по разметке a la НКРЯ, компьютерная поддержка корпуса', 'Россия', '89263994038', 'sladkevichv@mail.ru', '1'),\n",
    "    ('Хавкина Мария', 'МГУ, студент 2 курса ОТиПЛ', 'разработка кода по разметке a la НКРЯ, компьютерная поддержка корпуса','Россия','89035421974','flamingo_2002@mail.ru', '1'),\n",
    "    ('И Лицюнь', 'МГУ, аспирантка', 'выравнивание текстов, поиск новых источников; контакты с Жэньминь Жибао', 'Россия', None, 'yiliqun@mail.ru', '1'),\n",
    "    ('Лия', 'ВШЭ, магистрантка 2 курса РКИ', 'выравнивание и поиск тайваньских текстов на 国语', 'Россия', None, 'danlyadann@gmail.com', '1'),\n",
    "    ('Малых Валентин Андреевич', 'МФТИ и Huawei', 'повторное словоделение через Huawei', 'Россия', None, 'valentin.malykh@phystech.edu', '1'),\n",
    "    ('Захаров Виктор Павлович', 'СПбГУ, к.ф.н., доцент кафедры мат. лингвистики', 'вывешивание текстов его параллельного корпуса на нашей платформе; консультирование по вопросам выравнивания китайских текстов, подготовки корпуса и алгоритма поиска', 'Россия', None, 'vz1311@yandex.ru', '1'),\n",
    "    ('Юань Тао', 'Шэньсийский педагогический университет, доктор филологических наук', 'консультирование по вопросам корпусных исследований на базе параллельного корпуса', 'Россия', None, 'taoyuanhuahua@126.com', '1'),\n",
    "    ('张先生', 'Пекинский университет, Институт компьютерной лингвистики', 'предоставление платного словоделителя от 北大', 'КНР', None, None, '0'),\n",
    "    ('Валиулин Олег', 'РГГУ, магистр; ABBYY', 'научные изыскания в словоделении, контакты с китайским NLP', 'КНР', '892694561338', 'liam141810@gmail.com', '0'),\n",
    "    ('Якубов Марат', 'ВШЭ, студент магистратуры 2 курс', 'диплом по словоделению, код по обработке текстов', 'Россия', '89252667663', 'naiv.marat@gmail.com', '1'),\n",
    "]"
   ]
  },
  {
   "cell_type": "code",
   "execution_count": 26,
   "metadata": {},
   "outputs": [],
   "source": [
    "for i, m in enumerate(members):\n",
    "    cursor.execute(insert_1_query, m)\n",
    "    if i % 5 == 0:\n",
    "        db.commit()"
   ]
  },
  {
   "cell_type": "code",
   "execution_count": 27,
   "metadata": {
    "scrolled": false
   },
   "outputs": [
    {
     "name": "stdout",
     "output_type": "stream",
     "text": [
      "[(1, 'Семенов Кирилл Игоревич', 'студент ФиКЛа ВШЭ', 'координатор корпуса, HR', 'Россия', 89168024970, 'kir.semenow@yandex.ru', 1), (2, 'Плунгян Владимир Александрович', 'ИРЯ РАН, зам. директора, д.ф.н., акад. РАН; МГУ, проф.', 'руководство, идейное вдохновление', 'Россия', 89036729461, 'plungian@gmail.com', 1), (3, 'Рахилина Екатерина Владимировна', 'ВШЭ, руководитель Школы лингвистики, д.ф.н., проф.', 'руководство, идейное вдохновление', 'Россия', 89646403217, 'rakhilina@gmail.com', 1), (4, 'Сичинава Дмитрий Владимирович', 'ИРЯ РАН, ст. научный сотрудник, ВШЭ, доцент', 'координация, вывеска корпуса, консультации', 'Россия и др.', 89166421834, 'mitrius@gmail.com', 1), (5, 'Холкина Лилия Сергеевна', 'РГГУ, доцент', 'координация по работе с китайскими коллегами', 'Россия', 89267035065, 'kholkina@gmail.com', 0), (6, 'Дурнева Софья', 'ВШЭ, студентка ФиКЛ', 'выравнивание текстов', 'Россия', 89262202935, 'sonia.durneva@gmail.com', 1), (7, 'Кузнецова Юлия', 'МГУ, студентка 2 курса ОТиПЛ', 'выравнивание текстов, контакты с китайским NLP', 'Россия', 89161481461, ' kuznetsova.yn@gmail.com', 1), (8, 'Ксения Ульянова', 'АлтГУ, к.ф.н.', 'пополнение текстов деловой переписки; создание методического пособия по китайской стилистике', 'Россия', 89069441317, 'liulang689@gmail.com', 1), (9, 'Ли Сюэ', 'МГУ, аспирантка', 'not defined', 'Россия', None, 'lingxinlx@yandex.com', 1), (10, 'Сюй Банцзюнь', 'СПбГУ, аспирантка', 'not defined', 'Россия', None, 'yuner18@126.com', 1), (11, 'Ян Сяоюнь', 'СПбГУ, аспирантка', 'not defined', 'Россия', None, 'veraxu2006@126.com', 1), (12, 'Синь На (и ко)', 'Хэйлунцзянский университет, Институт лексикографии', 'выравнивание текстов', 'КНР', None, 'xinna@hlju.edu.cn', 1), (13, 'Юань Мяосюй (и ко)', 'Чжэцзянский университет, Институт иностранных языков', 'выравнивание текстов', 'КНР', None, 'galinayuan@mail.ru', 1), (14, 'Сладкевич Владислав', 'МГУ, студент 2 курса ОТиПЛ', 'разработка кода по разметке a la НКРЯ, компьютерная поддержка корпуса', 'Россия', 89263994038, 'sladkevichv@mail.ru', 1), (15, 'Хавкина Мария', 'МГУ, студент 2 курса ОТиПЛ', 'разработка кода по разметке a la НКРЯ, компьютерная поддержка корпуса', 'Россия', 89035421974, 'flamingo_2002@mail.ru', 1), (16, 'И Лицюнь', 'МГУ, аспирантка', 'выравнивание текстов, поиск новых источников; контакты с Жэньминь Жибао', 'Россия', None, 'yiliqun@mail.ru', 1), (17, 'Лия', 'ВШЭ, магистрантка 2 курса РКИ', 'выравнивание и поиск тайваньских текстов на 国语', 'Россия', None, 'danlyadann@gmail.com', 1), (18, 'Малых Валентин Андреевич', 'МФТИ и Huawei', 'повторное словоделение через Huawei', 'Россия', None, 'valentin.malykh@phystech.edu', 1), (19, 'Захаров Виктор Павлович', 'СПбГУ, к.ф.н., доцент кафедры мат. лингвистики', 'вывешивание текстов его параллельного корпуса на нашей платформе; консультирование по вопросам выравнивания китайских текстов, подготовки корпуса и алгоритма поиска', 'Россия', None, 'vz1311@yandex.ru', 1), (20, 'Юань Тао', 'Шэньсийский педагогический университет, доктор филологических наук', 'консультирование по вопросам корпусных исследований на базе параллельного корпуса', 'Россия', None, 'taoyuanhuahua@126.com', 1), (21, '张先生', 'Пекинский университет, Институт компьютерной лингвистики', 'предоставление платного словоделителя от 北大', 'КНР', None, None, 0), (22, 'Валиулин Олег', 'РГГУ, магистр; ABBYY', 'научные изыскания в словоделении, контакты с китайским NLP', 'КНР', 892694561338, 'liam141810@gmail.com', 0), (23, 'Якубов Марат', 'ВШЭ, студент магистратуры 2 курс', 'диплом по словоделению, код по обработке текстов', 'Россия', 89252667663, 'naiv.marat@gmail.com', 1)]\n"
     ]
    }
   ],
   "source": [
    "cursor.execute(\"\"\"SELECT * FROM members\"\"\")\n",
    "members = cursor.fetchall()\n",
    "print(members)"
   ]
  },
  {
   "cell_type": "markdown",
   "metadata": {},
   "source": [
    "## Makin' table namba 2"
   ]
  },
  {
   "cell_type": "code",
   "execution_count": 104,
   "metadata": {},
   "outputs": [],
   "source": [
    "#cursor.execute(\"\"\"DROP TABLE meta_texts IF EXISTS\"\"\")\n",
    "cursor.execute(\"\"\"DROP TABLE IF EXISTS meta_texts;\n",
    "CREATE TABLE meta_texts (meta_id INT(11) NOT NULL AUTO_INCREMENT PRIMARY KEY, \n",
    "                        meta_name VARCHAR(255), meta_header VARCHAR(255), meta_created SMALLINT(4), \n",
    "                        meta_author VARCHAR(255), meta_birthday SMALLINT(4), header_trans VARCHAR (255),\n",
    "                        author_trans VARCHAR(255), translator VARCHAR(255), date_trans SMALLINT(4),\n",
    "                        sphere VARCHAR(255), lang VARCHAR(5), lang_trans VARCHAR(5), words INT(10), sentences INT(10))\"\"\")"
   ]
  },
  {
   "cell_type": "code",
   "execution_count": null,
   "metadata": {},
   "outputs": [],
   "source": [
    "meta_text_1 = ()"
   ]
  },
  {
   "cell_type": "code",
   "execution_count": 80,
   "metadata": {},
   "outputs": [
    {
     "name": "stdout",
     "output_type": "stream",
     "text": [
      "[('members',), ('meta_texts',)]\n"
     ]
    }
   ],
   "source": [
    "cursor.execute(\"SHOW TABLES\")\n",
    "\n",
    "tables = cursor.fetchall()\n",
    "print(tables)"
   ]
  },
  {
   "cell_type": "code",
   "execution_count": 20,
   "metadata": {},
   "outputs": [
    {
     "ename": "InternalError",
     "evalue": "Unread result found",
     "output_type": "error",
     "traceback": [
      "\u001b[1;31m---------------------------------------------------------------------------\u001b[0m",
      "\u001b[1;31mInternalError\u001b[0m                             Traceback (most recent call last)",
      "\u001b[1;32m<ipython-input-20-57547bc8c81c>\u001b[0m in \u001b[0;36m<module>\u001b[1;34m\u001b[0m\n\u001b[1;32m----> 1\u001b[1;33m \u001b[0mcursor\u001b[0m\u001b[1;33m.\u001b[0m\u001b[0mclose\u001b[0m\u001b[1;33m(\u001b[0m\u001b[1;33m)\u001b[0m\u001b[1;33m\u001b[0m\u001b[1;33m\u001b[0m\u001b[0m\n\u001b[0m",
      "\u001b[1;32mc:\\python36\\lib\\site-packages\\mysql\\connector\\cursor_cext.py\u001b[0m in \u001b[0;36mclose\u001b[1;34m(self)\u001b[0m\n\u001b[0;32m    400\u001b[0m             \u001b[1;32mreturn\u001b[0m \u001b[1;32mFalse\u001b[0m\u001b[1;33m\u001b[0m\u001b[1;33m\u001b[0m\u001b[0m\n\u001b[0;32m    401\u001b[0m \u001b[1;33m\u001b[0m\u001b[0m\n\u001b[1;32m--> 402\u001b[1;33m         \u001b[0mself\u001b[0m\u001b[1;33m.\u001b[0m\u001b[0m_cnx\u001b[0m\u001b[1;33m.\u001b[0m\u001b[0mhandle_unread_result\u001b[0m\u001b[1;33m(\u001b[0m\u001b[1;33m)\u001b[0m\u001b[1;33m\u001b[0m\u001b[1;33m\u001b[0m\u001b[0m\n\u001b[0m\u001b[0;32m    403\u001b[0m         \u001b[0mself\u001b[0m\u001b[1;33m.\u001b[0m\u001b[0m_warnings\u001b[0m \u001b[1;33m=\u001b[0m \u001b[1;32mNone\u001b[0m\u001b[1;33m\u001b[0m\u001b[1;33m\u001b[0m\u001b[0m\n\u001b[0;32m    404\u001b[0m         \u001b[0mself\u001b[0m\u001b[1;33m.\u001b[0m\u001b[0m_cnx\u001b[0m \u001b[1;33m=\u001b[0m \u001b[1;32mNone\u001b[0m\u001b[1;33m\u001b[0m\u001b[1;33m\u001b[0m\u001b[0m\n",
      "\u001b[1;32mc:\\python36\\lib\\site-packages\\mysql\\connector\\connection_cext.py\u001b[0m in \u001b[0;36mhandle_unread_result\u001b[1;34m(self, prepared)\u001b[0m\n\u001b[0;32m    693\u001b[0m             \u001b[0mself\u001b[0m\u001b[1;33m.\u001b[0m\u001b[0mconsume_results\u001b[0m\u001b[1;33m(\u001b[0m\u001b[1;33m)\u001b[0m\u001b[1;33m\u001b[0m\u001b[1;33m\u001b[0m\u001b[0m\n\u001b[0;32m    694\u001b[0m         \u001b[1;32melif\u001b[0m \u001b[0munread_result\u001b[0m\u001b[1;33m:\u001b[0m\u001b[1;33m\u001b[0m\u001b[1;33m\u001b[0m\u001b[0m\n\u001b[1;32m--> 695\u001b[1;33m             \u001b[1;32mraise\u001b[0m \u001b[0merrors\u001b[0m\u001b[1;33m.\u001b[0m\u001b[0mInternalError\u001b[0m\u001b[1;33m(\u001b[0m\u001b[1;34m\"Unread result found\"\u001b[0m\u001b[1;33m)\u001b[0m\u001b[1;33m\u001b[0m\u001b[1;33m\u001b[0m\u001b[0m\n\u001b[0m",
      "\u001b[1;31mInternalError\u001b[0m: Unread result found"
     ]
    }
   ],
   "source": [
    "cursor.close()"
   ]
  },
  {
   "cell_type": "code",
   "execution_count": 91,
   "metadata": {},
   "outputs": [],
   "source": [
    "with open('meta_final.csv', 'r', encoding='utf-8') as meta_file:\n",
    "    data = meta_file.read()\n",
    "\n",
    "data = data.split('\\n')\n",
    "\n",
    "meta_data = []\n",
    "for line in data[1:]: \n",
    "    newline = tuple(line.split(';'))\n",
    "    meta_data.append(newline)"
   ]
  },
  {
   "cell_type": "code",
   "execution_count": 93,
   "metadata": {},
   "outputs": [
    {
     "data": {
      "text/plain": [
       "[('shinel',\n",
       "  'Шинель',\n",
       "  '1841',\n",
       "  'Н. В. Гоголь',\n",
       "  '1809',\n",
       "  '外套 /wài tào',\n",
       "  '尼古拉 果戈里 / Nígǔlā Guǒgēlǐ',\n",
       "  '满涛 / Mǎn Tāo',\n",
       "  '1963',\n",
       "  'художественная',\n",
       "  'rus',\n",
       "  'zho',\n",
       "  '10033',\n",
       "  '391'),\n",
       " ('smert_chinovnika',\n",
       "  'Смерть чиновника',\n",
       "  '1883',\n",
       "  'А. П. Чехов',\n",
       "  '1860',\n",
       "  '小公务员之死 / xiǎo gōng wù yuán zhī sǐ',\n",
       "  '安东 契诃夫 / Āndōng Qìhēfū',\n",
       "  '汝龙 / Rǔ Lóng',\n",
       "  '1980',\n",
       "  'художественная',\n",
       "  'rus',\n",
       "  'zho',\n",
       "  '681',\n",
       "  '69'),\n",
       " ('metel',\n",
       "  'Метель',\n",
       "  '1830',\n",
       "  'А. С. Пушкин',\n",
       "  '1799',\n",
       "  '暴风雪 / bào fēng xuě',\n",
       "  '亚历山大 普希金 /Yàlìshāndà Pǔxījīn',\n",
       "  '萧珊 / Xiāo Shān',\n",
       "  '1978',\n",
       "  'художественная',\n",
       "  'rus',\n",
       "  'zho',\n",
       "  '3395',\n",
       "  '254'),\n",
       " ('stanc_smotritel',\n",
       "  'Станционный смотритель',\n",
       "  '1830',\n",
       "  'А. С. Пушкин',\n",
       "  '1799',\n",
       "  '驿站长 / yì zhàn zhǎng',\n",
       "  '亚历山大 普希金 /Yàlìshāndà Pǔxījīn',\n",
       "  '戴启篁 / Dài Qǐ Huáng',\n",
       "  '1983',\n",
       "  'художественная',\n",
       "  'rus',\n",
       "  'zho',\n",
       "  '3451',\n",
       "  '240'),\n",
       " ('rudin',\n",
       "  'Рудин',\n",
       "  '1855',\n",
       "  'И. С. Тургенев',\n",
       "  '1818',\n",
       "  '罗亭 / luó tíng',\n",
       "  '伊万 屠格涅夫 /Yīwàn Túgénièfū',\n",
       "  '徐振亚 / 沈念驹',\n",
       "  '2000',\n",
       "  'художественная',\n",
       "  'rus',\n",
       "  'zho',\n",
       "  '35263',\n",
       "  '3146'),\n",
       " ('kryzhovnik',\n",
       "  'Крыжовник',\n",
       "  '1898',\n",
       "  'А. П. Чехов',\n",
       "  '1860',\n",
       "  '醋栗 / cù lì',\n",
       "  '安东 契诃夫 / Āndōng Qìhēfū',\n",
       "  '汝龙 / Rǔ Lóng',\n",
       "  '2003',\n",
       "  'художественная',\n",
       "  'rus',\n",
       "  'zho',\n",
       "  '3250',\n",
       "  '180'),\n",
       " ('v_lyudiakh',\n",
       "  'В людях',\n",
       "  '1914',\n",
       "  'Максим Горький',\n",
       "  '1868',\n",
       "  '在人间 / zài rén jiān',\n",
       "  '马克西姆 高尔基 /Mǎkèxīmǔ Gāoěrjī',\n",
       "  '楼适夷 / Lóu Shìyí ',\n",
       "  '1956',\n",
       "  'художественная',\n",
       "  'rus',\n",
       "  'zho',\n",
       "  '44356',\n",
       "  '2820'),\n",
       " ('otcy_i_deti',\n",
       "  'Отцы и дети',\n",
       "  '1861',\n",
       "  'И. С. Тургенев',\n",
       "  '1818',\n",
       "  '父与子 / fù yǔ zǐ',\n",
       "  '伊万 屠格涅夫 /Yīwàn Túgénièfū',\n",
       "  '石枕川 / Shí Zhěn Chuān',\n",
       "  '1997',\n",
       "  'художественная',\n",
       "  'rus',\n",
       "  'zho',\n",
       "  '54186',\n",
       "  '4008'),\n",
       " ('menya_zovut_lu_yuejin',\n",
       "  '我叫刘跃进 / wǒ jiào liú yuè jìn',\n",
       "  '2007',\n",
       "  '刘震云 /\\xa0Liú Zhènyún',\n",
       "  '1958',\n",
       "  'Меня зовут Лю Юэцзинь',\n",
       "  'Лю Чжэньюнь',\n",
       "  'О. Родионова',\n",
       "  '2016',\n",
       "  'художественная',\n",
       "  'zho',\n",
       "  'rus',\n",
       "  '101152',\n",
       "  '6351'),\n",
       " ('mobilnik',\n",
       "  '手机 / shǒujī',\n",
       "  '2003',\n",
       "  '刘震云 /\\xa0Liú Zhènyún',\n",
       "  '1958',\n",
       "  'Мобильник',\n",
       "  'Лю Чжэньюнь',\n",
       "  'О. Родионова',\n",
       "  '2016',\n",
       "  'художественная',\n",
       "  'zho',\n",
       "  'rus',\n",
       "  '68371',\n",
       "  '4582'),\n",
       " ('ya_ne_pan_jinlian',\n",
       "  '我不是潘金莲 / wǒ bú shì pān jīn lián',\n",
       "  '2012',\n",
       "  '刘震云 /\\xa0Liú Zhènyún',\n",
       "  '1958',\n",
       "  'Я не Пань Цзиньлянь',\n",
       "  'Лю Чжэньюнь',\n",
       "  'О. Родионова',\n",
       "  '2015',\n",
       "  'художественная',\n",
       "  'zho',\n",
       "  'rus',\n",
       "  '73697',\n",
       "  '3514'),\n",
       " ('Yu_Hua_Zhit',\n",
       "  '活着 / huó zhe',\n",
       "  '1993',\n",
       "  '余华 /\\xa0Yú Huá',\n",
       "  '1960',\n",
       "  'Жить',\n",
       "  'Юй Хуа',\n",
       "  'Р. Г. Шапиро',\n",
       "  '2014',\n",
       "  'художественная',\n",
       "  'zho',\n",
       "  'rus',\n",
       "  '29779',\n",
       "  '1823'),\n",
       " ('peremeny',\n",
       "  '变 / biàn',\n",
       "  '2012',\n",
       "  '莫言 / Mò Yán',\n",
       "  '1955',\n",
       "  'Перемены',\n",
       "  'Мо Янь',\n",
       "  'Н. Власова',\n",
       "  '2014',\n",
       "  'художественная',\n",
       "  'zho',\n",
       "  'rus',\n",
       "  '18007',\n",
       "  '894'),\n",
       " ('',)]"
      ]
     },
     "execution_count": 93,
     "metadata": {},
     "output_type": "execute_result"
    }
   ],
   "source": [
    "meta_data"
   ]
  },
  {
   "cell_type": "code",
   "execution_count": 105,
   "metadata": {},
   "outputs": [],
   "source": [
    "meta_query = \"\"\"INSERT INTO meta_texts (meta_name, meta_header, meta_created, meta_author, meta_birthday, header_trans,\n",
    "                        author_trans, translator, date_trans, sphere, lang, lang_trans, words, sentences)\n",
    "                        VALUES (%s, %s, %s, %s, %s, %s, %s, %s, %s, %s, %s, %s, %s, %s)\"\"\""
   ]
  },
  {
   "cell_type": "code",
   "execution_count": 109,
   "metadata": {},
   "outputs": [
    {
     "name": "stdout",
     "output_type": "stream",
     "text": [
      "0\n",
      "1\n",
      "2\n",
      "3\n",
      "4\n",
      "5\n",
      "6\n",
      "7\n",
      "8\n",
      "9\n",
      "10\n",
      "11\n",
      "12\n"
     ]
    }
   ],
   "source": [
    "i = 0\n",
    "for m in meta_data[:-1]:\n",
    "    print(i)\n",
    "    cursor.execute(meta_query, m)\n",
    "    i += 1\n",
    "    #if i % 3 == 0:\n",
    "#db.commit()"
   ]
  },
  {
   "cell_type": "code",
   "execution_count": 129,
   "metadata": {},
   "outputs": [
    {
     "name": "stdout",
     "output_type": "stream",
     "text": [
      "[(1, 'shinel', 'Шинель', 1841, 'Н. В. Гоголь', 1809, '外套 /wài tào', '尼古拉 果戈里 / Nígǔlā Guǒgēlǐ', '满涛 / Mǎn Tāo', 1963, 'художественная', 'rus', 'zho', 10033, 391), (2, 'smert_chinovnika', 'Смерть чиновника', 1883, 'А. П. Чехов', 1860, '小公务员之死 / xiǎo gōng wù yuán zhī sǐ', '安东 契诃夫 / Āndōng Qìhēfū', '汝龙 / Rǔ Lóng', 1980, 'художественная', 'rus', 'zho', 681, 69), (3, 'metel', 'Метель', 1830, 'А. С. Пушкин', 1799, '暴风雪 / bào fēng xuě', '亚历山大 普希金 /Yàlìshāndà Pǔxījīn', '萧珊 / Xiāo Shān', 1978, 'художественная', 'rus', 'zho', 3395, 254), (4, 'stanc_smotritel', 'Станционный смотритель', 1830, 'А. С. Пушкин', 1799, '驿站长 / yì zhàn zhǎng', '亚历山大 普希金 /Yàlìshāndà Pǔxījīn', '戴启篁 / Dài Qǐ Huáng', 1983, 'художественная', 'rus', 'zho', 3451, 240), (5, 'rudin', 'Рудин', 1855, 'И. С. Тургенев', 1818, '罗亭 / luó tíng', '伊万 屠格涅夫 /Yīwàn Túgénièfū', '徐振亚 / 沈念驹', 2000, 'художественная', 'rus', 'zho', 35263, 3146), (6, 'kryzhovnik', 'Крыжовник', 1898, 'А. П. Чехов', 1860, '醋栗 / cù lì', '安东 契诃夫 / Āndōng Qìhēfū', '汝龙 / Rǔ Lóng', 2003, 'художественная', 'rus', 'zho', 3250, 180), (7, 'v_lyudiakh', 'В людях', 1914, 'Максим Горький', 1868, '在人间 / zài rén jiān', '马克西姆 高尔基 /Mǎkèxīmǔ Gāoěrjī', '楼适夷 / Lóu Shìyí ', 1956, 'художественная', 'rus', 'zho', 44356, 2820), (8, 'otcy_i_deti', 'Отцы и дети', 1861, 'И. С. Тургенев', 1818, '父与子 / fù yǔ zǐ', '伊万 屠格涅夫 /Yīwàn Túgénièfū', '石枕川 / Shí Zhěn Chuān', 1997, 'художественная', 'rus', 'zho', 54186, 4008), (9, 'menya_zovut_lu_yuejin', '我叫刘跃进 / wǒ jiào liú yuè jìn', 2007, '刘震云 /\\xa0Liú Zhènyún', 1958, 'Меня зовут Лю Юэцзинь', 'Лю Чжэньюнь', 'О. Родионова', 2016, 'художественная', 'zho', 'rus', 101152, 6351), (10, 'mobilnik', '手机 / shǒujī', 2003, '刘震云 /\\xa0Liú Zhènyún', 1958, 'Мобильник', 'Лю Чжэньюнь', 'О. Родионова', 2016, 'художественная', 'zho', 'rus', 68371, 4582), (11, 'ya_ne_pan_jinlian', '我不是潘金莲 / wǒ bú shì pān jīn lián', 2012, '刘震云 /\\xa0Liú Zhènyún', 1958, 'Я не Пань Цзиньлянь', 'Лю Чжэньюнь', 'О. Родионова', 2015, 'художественная', 'zho', 'rus', 73697, 3514), (12, 'Yu_Hua_Zhit', '活着 / huó zhe', 1993, '余华 /\\xa0Yú Huá', 1960, 'Жить', 'Юй Хуа', 'Р. Г. Шапиро', 2014, 'художественная', 'zho', 'rus', 29779, 1823), (13, 'peremeny', '变 / biàn', 2012, '莫言 / Mò Yán', 1955, 'Перемены', 'Мо Янь', 'Н. Власова', 2014, 'художественная', 'zho', 'rus', 18007, 894), (14, 'lubov', 'Первая любовь', 1860, 'И. С. Тургенев', 1818, '初恋 / chūliàn', '伊万 屠格涅夫 / yīwàn túgénièfū', '奉真 / Feng Zhen', 1998, 'художественная', 'rus', 'zho', 70891, 4029), (15, 'tolstytonky', 'Толстый и тонкий', 1883, 'А. П. Чехов', 1860, '胖子和瘦子 / pang zi he hou zi', '安东 契诃夫 / āndōng qìhēfū', '汝龙 / Ru Long', 1955, 'художественная', 'rus', 'zho', 2195, 231), (16, 'mumu', 'Муму', 1854, 'И. С. Тургенев', 1818, '木木 / mùmù', '伊万 屠格涅夫 / yīwàn túgénièfū', '巴金 / Ba Jin', 1988, 'художественная', 'rus', 'zho', 9681, 444)]\n"
     ]
    }
   ],
   "source": [
    "cursor.execute(\"\"\"SELECT * FROM meta_texts\"\"\")\n",
    "members = cursor.fetchall()\n",
    "print(members)"
   ]
  },
  {
   "cell_type": "code",
   "execution_count": 130,
   "metadata": {},
   "outputs": [],
   "source": [
    "db.commit()"
   ]
  },
  {
   "cell_type": "code",
   "execution_count": 124,
   "metadata": {},
   "outputs": [],
   "source": [
    "old_files = [\n",
    "    ('lubov', 'Первая любовь', 1860, 'И. С. Тургенев', 1818, '初恋 / chūliàn', '伊万 屠格涅夫 / yīwàn túgénièfū', '奉真 / Feng Zhen', 1998, 'художественная', 'rus', 'zho', 70891, 4029),\n",
    "    ('tolstytonky', 'Толстый и тонкий', 1883,'А. П. Чехов', 1860, '胖子和瘦子 / pang zi he hou zi', '安东 契诃夫 / āndōng qìhēfū', '汝龙 / Ru Long', 1955, 'художественная', 'rus', 'zho', 2195, 231),\n",
    "    ('mumu', 'Муму', 1854, 'И. С. Тургенев', 1818, '木木 / mùmù', '伊万 屠格涅夫 / yīwàn túgénièfū', '巴金 / Ba Jin', 1988, 'художественная', 'rus', 'zho', 9681, 444)\n",
    "]"
   ]
  },
  {
   "cell_type": "code",
   "execution_count": 128,
   "metadata": {},
   "outputs": [],
   "source": [
    "cursor.executemany(meta_query, old_files)"
   ]
  },
  {
   "cell_type": "markdown",
   "metadata": {},
   "source": [
    "# Makin tabel namba 3"
   ]
  },
  {
   "cell_type": "code",
   "execution_count": null,
   "metadata": {},
   "outputs": [],
   "source": [
    "cursor.execute(\"\"\"DROP TABLE IF EXISTS tasks;\n",
    "                CREATE TABLE tasks (task_id INT(11) NOT NULL AUTO_INCREMENT PRIMARY KEY,\n",
    "                task_name VARCHAR(255), task_deadline DATE, task_worker VARCHAR(255), task_text VARCHAR(255),\n",
    "                task_current_situation VARCHAR(255))\"\"\")"
   ]
  },
  {
   "cell_type": "code",
   "execution_count": 3,
   "metadata": {},
   "outputs": [],
   "source": [
    "tasks_query = \"\"\"INSERT INTO tasks (task_name, task_deadline, task_worker, task_text, task_current_situation)\n",
    "                VALUES (%s, %s, %s, %s, %s)\"\"\""
   ]
  },
  {
   "cell_type": "code",
   "execution_count": 4,
   "metadata": {},
   "outputs": [],
   "source": [
    "tasks = [\n",
    "    ('обработка корпуса ООН, приведение к виду НКРЯ', '2020-02-01', 'Хавкина Мария', None, 'in process'),\n",
    "    ('обработка корпуса Захарова-Тао, приведение к виду НКРЯ', '2020-02-01', 'Хавкина Мария', None, 'in process'),\n",
    "    ('заявка на конференцию в МГИМО (20-21 февраля)', '2020-01-15', 'Семенов Кирилл', None, 'in process'),\n",
    "    ('заявка на конференцию в МГИМО (20-21 февраля)', '2020-01-15', 'Дурнева Софья', None, 'in process'),\n",
    "    ('заявка на конференцию в МГИМО (20-21 февраля)', '2020-01-15', 'Кузнецова Юлия', None, 'in process'),\n",
    "    ('заявка на конференцию в ВШЭ (6-10 апреля)', '2020-02-01', 'Семенов Кирилл', None, 'in process'),\n",
    "    ('заявка на конференцию в ВШЭ (6-10 апреля)', '2020-02-01', 'Дурнева Софья', None, 'in process'),\n",
    "    ('заявка на конференцию в ВШЭ (6-10 апреля)', '2020-02-01', 'Кузнецова Юлия', None, 'in process'),\n",
    "    ('заявка на конференцию в ВШЭ (6-10 апреля)', '2020-02-01', 'Сладкевич Владислав', None, 'in process'),\n",
    "    ('найти тексты маньхуа', '2020-02-15', 'Сладкевич Владислав', None, 'not started'),\n",
    "    ('проверить параллельные сайты с документацией библиотек python', '2020-01-20', 'Дурнева Софья', None, 'not started'),\n",
    "    ('подготовка практики для ДИЯ', '2020-01-15', 'Семенов Кирилл', None, 'in process'),\n",
    "    ('подготовка практики для востоковедов ВШЭ', '2020-01-15', 'Семенов Кирилл', None, 'in process'),\n",
    "    ('\"механическая\" обработка новых текстов', '2020-03-30', None, None, 'not started'),\n",
    "    ('поиск ошибочных предложений', '2020-01-15', 'Кузнецова Юлия', 'lubov', 'not started'),\n",
    "    ('поиск ошибочных предложений', '2020-01-15', 'Кузнецова Юлия', 'mumu', 'not started'),\n",
    "    ('поиск ошибочных предложений', '2020-01-15', 'Кузнецова Юлия', 'tolstytonky', 'not started'),\n",
    "    ('выравнивание текстов', '2020-02-28', 'Юань Мяосюй (и ко)', 'ustal', 'in process'),\n",
    "    ('выравнивание текстов', '2020-02-28', 'Лия', 'mtc_facebook', 'done'),\n",
    "    ('выравнивание текстов', '2020-02-28', 'И Лицюнь', 'renminwang', 'in process')\n",
    "]"
   ]
  },
  {
   "cell_type": "code",
   "execution_count": 5,
   "metadata": {},
   "outputs": [],
   "source": [
    "cursor.executemany(tasks_query, tasks)"
   ]
  },
  {
   "cell_type": "code",
   "execution_count": 6,
   "metadata": {},
   "outputs": [],
   "source": [
    "db.commit()"
   ]
  },
  {
   "cell_type": "code",
   "execution_count": 136,
   "metadata": {},
   "outputs": [
    {
     "name": "stdout",
     "output_type": "stream",
     "text": [
      "(1, 'обработка корпуса ООН, приведение к виду НКРЯ', datetime.date(2020, 2, 1), 'Хавкина Мария', None, 'in process')\n",
      "(2, 'обработка корпуса Захарова-Тао, приведение к виду НКРЯ', datetime.date(2020, 2, 1), 'Хавкина Мария', None, 'in process')\n",
      "(3, 'заявка на конференцию в МГИМО (20-21 февраля)', datetime.date(2020, 1, 15), 'Семенов Кирилл', None, 'in process')\n",
      "(4, 'заявка на конференцию в МГИМО (20-21 февраля)', datetime.date(2020, 1, 15), 'Дурнева Софья', None, 'in process')\n",
      "(5, 'заявка на конференцию в МГИМО (20-21 февраля)', datetime.date(2020, 1, 15), 'Кузнецова Юлия', None, 'in process')\n",
      "(6, 'заявка на конференцию в ВШЭ (6-10 апреля)', datetime.date(2020, 2, 1), 'Семенов Кирилл', None, 'in process')\n",
      "(7, 'заявка на конференцию в ВШЭ (6-10 апреля)', datetime.date(2020, 2, 1), 'Дурнева Софья', None, 'in process')\n",
      "(8, 'заявка на конференцию в ВШЭ (6-10 апреля)', datetime.date(2020, 2, 1), 'Кузнецова Юлия', None, 'in process')\n",
      "(9, 'заявка на конференцию в ВШЭ (6-10 апреля)', datetime.date(2020, 2, 1), 'Сладкевич Владислав', None, 'in process')\n",
      "(10, 'найти тексты маньхуа', datetime.date(2020, 2, 15), 'Сладкевич Владислав', None, 'not started')\n",
      "(11, 'проверить параллельные сайты с документацией библиотек python', datetime.date(2020, 1, 20), 'Дурнева Софья', None, 'not started')\n",
      "(12, 'подготовка практики для ДИЯ', datetime.date(2020, 1, 15), 'Семенов Кирилл', None, 'in process')\n",
      "(13, 'подготовка практики для востоковедов ВШЭ', datetime.date(2020, 1, 15), 'Семенов Кирилл', None, 'in process')\n",
      "(14, '\"механическая\" обработка новых текстов', datetime.date(2020, 3, 30), None, None, 'not started')\n",
      "(15, 'поиск ошибочных предложений', datetime.date(2020, 1, 15), 'Кузнецова Юлия', 'lubov', 'not started')\n",
      "(16, 'поиск ошибочных предложений', datetime.date(2020, 1, 15), 'Кузнецова Юлия', 'mumu', 'not started')\n",
      "(17, 'поиск ошибочных предложений', datetime.date(2020, 1, 15), 'Кузнецова Юлия', 'tolstytonky', 'not started')\n",
      "(18, 'выравнивание текстов', datetime.date(2020, 2, 28), 'Юань Мяосюй (и ко)', 'ustal', 'in process')\n",
      "(19, 'выравнивание текстов', datetime.date(2020, 2, 28), 'Лия', 'mtc_facebook', 'done')\n",
      "(20, 'выравнивание текстов', datetime.date(2020, 2, 28), 'И Лицюнь', 'renminwang', 'in process')\n"
     ]
    }
   ],
   "source": [
    "cursor.execute(\"\"\"SELECT * FROM tasks\"\"\")\n",
    "for row in cursor:\n",
    "    print(row)"
   ]
  },
  {
   "cell_type": "code",
   "execution_count": 24,
   "metadata": {},
   "outputs": [],
   "source": [
    "tasks_to_kick = [('выравнивание текста', '2017-02-28', 'Дурнева Софья', 'idiot', 'done long ago'),\n",
    "                ('выравнивание текста', '2017-02-28', 'Дурнева Софья', 'stal', 'done long ago')]\n",
    "\n",
    "tasks_query = \"\"\"INSERT INTO tasks (task_name, task_deadline, task_worker, task_text, task_current_situation)\n",
    "                VALUES (%s, %s, %s, %s, %s)\"\"\"\n",
    "\n",
    "cursor.executemany(tasks_query, tasks_to_kick)\n",
    "\n",
    "db.commit()"
   ]
  },
  {
   "cell_type": "markdown",
   "metadata": {},
   "source": [
    "## IVI/\\KII\\I T/\\BEL NAMBA 4"
   ]
  },
  {
   "cell_type": "code",
   "execution_count": 142,
   "metadata": {},
   "outputs": [
    {
     "name": "stdout",
     "output_type": "stream",
     "text": [
      "('shinel',)\n",
      "('smert_chinovnika',)\n",
      "('metel',)\n",
      "('stanc_smotritel',)\n",
      "('rudin',)\n",
      "('kryzhovnik',)\n",
      "('v_lyudiakh',)\n",
      "('otcy_i_deti',)\n",
      "('menya_zovut_lu_yuejin',)\n",
      "('mobilnik',)\n",
      "('ya_ne_pan_jinlian',)\n",
      "('Yu_Hua_Zhit',)\n",
      "('peremeny',)\n",
      "('lubov',)\n",
      "('tolstytonky',)\n",
      "('mumu',)\n"
     ]
    }
   ],
   "source": [
    "name_list = []\n",
    "cursor.execute(\"\"\"SELECT meta_name FROM meta_texts\"\"\")\n",
    "for row in cursor:\n",
    "    print(row)\n",
    "    name_list.append(row[0])"
   ]
  },
  {
   "cell_type": "code",
   "execution_count": 143,
   "metadata": {},
   "outputs": [
    {
     "data": {
      "text/plain": [
       "['shinel',\n",
       " 'smert_chinovnika',\n",
       " 'metel',\n",
       " 'stanc_smotritel',\n",
       " 'rudin',\n",
       " 'kryzhovnik',\n",
       " 'v_lyudiakh',\n",
       " 'otcy_i_deti',\n",
       " 'menya_zovut_lu_yuejin',\n",
       " 'mobilnik',\n",
       " 'ya_ne_pan_jinlian',\n",
       " 'Yu_Hua_Zhit',\n",
       " 'peremeny',\n",
       " 'lubov',\n",
       " 'tolstytonky',\n",
       " 'mumu']"
      ]
     },
     "execution_count": 143,
     "metadata": {},
     "output_type": "execute_result"
    }
   ],
   "source": [
    "name_list"
   ]
  },
  {
   "cell_type": "code",
   "execution_count": 137,
   "metadata": {},
   "outputs": [],
   "source": [
    "cursor.execute(\"\"\"DROP TABLE IF EXISTS texts;\n",
    "                CREATE TABLE texts (text_id INT(11) NOT NULL AUTO_INCREMENT PRIMARY KEY,\n",
    "                text_name VARCHAR(255), text_link VARCHAR(255),\n",
    "                text_type VARCHAR(6), text_situation VARCHAR(255),\n",
    "                text_is_ready_meta TINYINT(1), \n",
    "                text_releazed_ruscorpora TINYINT(1), text_releazed_linghub TINYINT(1))\"\"\")"
   ]
  },
  {
   "cell_type": "code",
   "execution_count": 146,
   "metadata": {},
   "outputs": [],
   "source": [
    "texts = [\n",
    "    ('shinel', 'https://yadi.sk/d/52nmleoZ2THGFQ', 'xml', 'in corpus', 1, 1, 1),\n",
    "    ('smert_chinovnika', 'https://yadi.sk/d/y6cWFcAOqrfUDg', 'xml', 'in corpus', 1, 1, 1),\n",
    "    ('metel', 'https://yadi.sk/d/uI3ia7ZRcchorQ', 'xml', 'in corpus', 1, 1, 1),\n",
    "    ('stanc_smotritel', 'https://yadi.sk/d/ahHJ7_yMEFghUw', 'xml', 'in corpus', 1, 1, 1),\n",
    "    ('rudin', 'https://yadi.sk/d/uOIcqhOxgG1pVw', 'xml', 'in corpus', 1, 1, 1),\n",
    "    ('kryzhovnik', 'https://yadi.sk/d/s0UkzjmPWrFByw', 'xml', 'in corpus', 1, 1, 1),\n",
    "    ('v_lyudiakh', 'https://yadi.sk/d/f-9TnuzbeWaPZQ', 'xml', 'in corpus', 1, 1, 1),\n",
    "    ('otcy_i_deti', 'https://yadi.sk/d/l2gokH8fVMhn6g', 'xml', 'in corpus', 1, 1, 1),\n",
    "    ('menya_zovut_lu_yuejin', 'https://yadi.sk/d/WkpLDLsIPQudsg', 'xml', 'in corpus', 1, 1, 1),\n",
    "    ('mobilnik', 'https://yadi.sk/d/ZnqWeGrWAa90LQ', 'xml', 'in corpus', 1, 1, 1),\n",
    "    ('ya_ne_pan_jinlian', 'https://yadi.sk/d/nLZQoV2POLXg8g', 'xml', 'in corpus', 1, 1, 1),\n",
    "    ('Yu_Hua_Zhit', 'https://yadi.sk/d/XJQnrGxf78ZQbw', 'xml', 'in corpus', 1, 1, 1),\n",
    "    ('peremeny', 'https://yadi.sk/d/YzdMWywL5UWUfQ', 'xml', 'in corpus', 1, 1, 1),\n",
    "    ('lubov', 'https://yadi.sk/d/ljzUAQW_CYjZbQ', 'xml', 'in corpus', 1, 1, 1),\n",
    "    ('tolstytonky', 'https://yadi.sk/d/S6QyW9HUz5nOiw', 'xml', 'in corpus', 1, 1, 1),\n",
    "    ('mumu', 'https://yadi.sk/d/P_kRTQAzT36i8g', 'xml', 'in corpus', 1, 1, 1),\n",
    "    ('ustal', 'https://yadi.sk/d/q3DtFBZ-Yto6WQ', 'tmx', 'waiting metadata', 0, 0, 0),\n",
    "    ('pisma_1-10', 'https://yadi.sk/d/D9i5idGQv_ZMtg', 'tmx', 'waiting metadata', 0, 0, 0),\n",
    "    ('pisma_11-20', 'https://yadi.sk/d/D9i5idGQv_ZMtg', 'tmx', 'waiting metadata', 0, 0, 0),\n",
    "    ('mtc_facebook', 'https://yadi.sk/d/KgktWTnixfrn0g', 'xls', 'waiting processing', 1, 0, 0),\n",
    "    ('renminwang', 'https://yadi.sk/d/vfn-TUbXmhlB4g', 'xls', 'waiting processing', 1, 0, 0),\n",
    "]"
   ]
  },
  {
   "cell_type": "code",
   "execution_count": 147,
   "metadata": {},
   "outputs": [],
   "source": [
    "text_query = \"\"\"INSERT INTO texts (text_name, text_link, text_type, text_situation, \n",
    "                text_is_ready_meta, text_releazed_ruscorpora, text_releazed_linghub)\n",
    "                VALUES (%s, %s, %s, %s, %s, %s, %s)\"\"\""
   ]
  },
  {
   "cell_type": "code",
   "execution_count": 148,
   "metadata": {},
   "outputs": [],
   "source": [
    "cursor.executemany(text_query, texts)"
   ]
  },
  {
   "cell_type": "code",
   "execution_count": 149,
   "metadata": {},
   "outputs": [],
   "source": [
    "db.commit()"
   ]
  },
  {
   "cell_type": "markdown",
   "metadata": {},
   "source": [
    "## Let's see"
   ]
  },
  {
   "cell_type": "code",
   "execution_count": 150,
   "metadata": {},
   "outputs": [
    {
     "name": "stdout",
     "output_type": "stream",
     "text": [
      "[('members',), ('meta_texts',), ('tasks',), ('texts',)]\n"
     ]
    }
   ],
   "source": [
    "cursor.execute(\"SHOW TABLES\")\n",
    "\n",
    "tables = cursor.fetchall()\n",
    "print(tables)"
   ]
  },
  {
   "cell_type": "code",
   "execution_count": 9,
   "metadata": {},
   "outputs": [
    {
     "name": "stdout",
     "output_type": "stream",
     "text": [
      "[('Кузнецова Юлия', 'lubov'), ('Кузнецова Юлия', 'mumu'), ('Кузнецова Юлия', 'tolstytonky'), ('Юань Мяосюй (и ко)', 'ustal'), ('И Лицюнь', 'renminwang'), ('Лия', 'mtc_facebook')]\n"
     ]
    }
   ],
   "source": [
    "cursor.execute(\"\"\"SELECT members.member_name, texts.text_name\n",
    "                FROM members, tasks, texts\n",
    "                WHERE members.member_name = tasks.task_worker AND tasks.task_text = texts.text_name\"\"\")\n",
    "\n",
    "texts = cursor.fetchall()\n",
    "print(texts)"
   ]
  },
  {
   "cell_type": "code",
   "execution_count": 16,
   "metadata": {},
   "outputs": [
    {
     "name": "stdout",
     "output_type": "stream",
     "text": [
      "('И Лицюнь', 'renminwang', 'xls', 'in process')\n",
      "('Лия', 'mtc_facebook', 'xls', 'done')\n"
     ]
    }
   ],
   "source": [
    "cursor.execute(\"\"\"SELECT members.member_name, texts.text_name, texts.text_type, tasks.task_current_situation\n",
    "                FROM members, tasks, texts\n",
    "                WHERE members.member_name = tasks.task_worker AND tasks.task_text = texts.text_name\n",
    "                AND texts.text_situation = 'waiting processing'\"\"\")\n",
    "\n",
    "for row in cursor:\n",
    "    print(row)"
   ]
  },
  {
   "cell_type": "code",
   "execution_count": 25,
   "metadata": {},
   "outputs": [
    {
     "name": "stdout",
     "output_type": "stream",
     "text": [
      "('Дурнева Софья', 'выравнивание текстов', 'заявка на конференцию в МГИМО (20-21 февраля)')\n",
      "('Дурнева Софья', 'выравнивание текстов', 'заявка на конференцию в ВШЭ (6-10 апреля)')\n",
      "('Дурнева Софья', 'выравнивание текстов', 'проверить параллельные сайты с документацией библиотек python')\n",
      "('Дурнева Софья', 'выравнивание текстов', 'выравнивание текста')\n",
      "('Дурнева Софья', 'выравнивание текстов', 'выравнивание текста')\n",
      "('Кузнецова Юлия', 'выравнивание текстов, контакты с китайским NLP', 'заявка на конференцию в МГИМО (20-21 февраля)')\n",
      "('Кузнецова Юлия', 'выравнивание текстов, контакты с китайским NLP', 'заявка на конференцию в ВШЭ (6-10 апреля)')\n",
      "('Кузнецова Юлия', 'выравнивание текстов, контакты с китайским NLP', 'поиск ошибочных предложений')\n",
      "('Кузнецова Юлия', 'выравнивание текстов, контакты с китайским NLP', 'поиск ошибочных предложений')\n",
      "('Кузнецова Юлия', 'выравнивание текстов, контакты с китайским NLP', 'поиск ошибочных предложений')\n",
      "('Юань Мяосюй (и ко)', 'выравнивание текстов', 'выравнивание текстов')\n",
      "('Сладкевич Владислав', 'разработка кода по разметке a la НКРЯ, компьютерная поддержка корпуса', 'заявка на конференцию в ВШЭ (6-10 апреля)')\n",
      "('Сладкевич Владислав', 'разработка кода по разметке a la НКРЯ, компьютерная поддержка корпуса', 'найти тексты маньхуа')\n",
      "('Хавкина Мария', 'разработка кода по разметке a la НКРЯ, компьютерная поддержка корпуса', 'обработка корпуса ООН, приведение к виду НКРЯ')\n",
      "('Хавкина Мария', 'разработка кода по разметке a la НКРЯ, компьютерная поддержка корпуса', 'обработка корпуса Захарова-Тао, приведение к виду НКРЯ')\n",
      "('И Лицюнь', 'выравнивание текстов, поиск новых источников; контакты с Жэньминь Жибао', 'выравнивание текстов')\n",
      "('Лия', 'выравнивание и поиск тайваньских текстов на 国语', 'выравнивание текстов')\n",
      "(None, None, 'заявка на конференцию в МГИМО (20-21 февраля)')\n",
      "(None, None, 'заявка на конференцию в ВШЭ (6-10 апреля)')\n",
      "(None, None, 'подготовка практики для ДИЯ')\n",
      "(None, None, 'подготовка практики для востоковедов ВШЭ')\n",
      "(None, None, '\"механическая\" обработка новых текстов')\n"
     ]
    }
   ],
   "source": [
    "cursor.execute('''SELECT members.member_name, members.member_responsibility, tasks.task_name FROM members RIGHT JOIN tasks \n",
    "                   ON members.member_name = tasks.task_worker''')\n",
    "\n",
    "for row in cursor:\n",
    "    print(row)"
   ]
  },
  {
   "cell_type": "code",
   "execution_count": null,
   "metadata": {},
   "outputs": [],
   "source": []
  }
 ],
 "metadata": {
  "kernelspec": {
   "display_name": "Python 3",
   "language": "python",
   "name": "python3"
  },
  "language_info": {
   "codemirror_mode": {
    "name": "ipython",
    "version": 3
   },
   "file_extension": ".py",
   "mimetype": "text/x-python",
   "name": "python",
   "nbconvert_exporter": "python",
   "pygments_lexer": "ipython3",
   "version": "3.6.8"
  }
 },
 "nbformat": 4,
 "nbformat_minor": 2
}
